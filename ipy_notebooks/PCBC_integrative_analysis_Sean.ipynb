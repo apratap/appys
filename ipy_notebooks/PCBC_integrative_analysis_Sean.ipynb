{
 "metadata": {
  "name": ""
 },
 "nbformat": 3,
 "nbformat_minor": 0,
 "worksheets": [
  {
   "cells": [
    {
     "cell_type": "code",
     "collapsed": false,
     "input": [
      "import sys\n",
      "import pandas as pd\n",
      "import numpy as np\n",
      "import itertools as it\n",
      "import zipfile\n",
      "import re\n",
      "import os"
     ],
     "language": "python",
     "metadata": {},
     "outputs": []
    },
    {
     "cell_type": "code",
     "collapsed": false,
     "input": [
      "#adding the local lib path\n",
      "sys.path.append('/home/apratap/dev/appys/lib/')\n",
      "import utils"
     ],
     "language": "python",
     "metadata": {},
     "outputs": []
    },
    {
     "cell_type": "code",
     "collapsed": false,
     "input": [
      "#presets\n",
      "data_dir = \"/home/apratap/projects/PCBC_integrative_analysis/data/\""
     ],
     "language": "python",
     "metadata": {},
     "outputs": []
    },
    {
     "cell_type": "code",
     "collapsed": false,
     "input": [
      "#get all the expression files\n",
      "fpkm_files = utils.get_FilesList(data_dir,pattern='genes.fpkm_tracking')"
     ],
     "language": "python",
     "metadata": {},
     "outputs": []
    },
    {
     "cell_type": "code",
     "collapsed": false,
     "input": [
      "fpkms_list = []\n",
      "for fpkm_file in fpkm_files[0:8]:\n",
      "    sample_name = fpkm_file.split('/')[6].split('_')[2]\n",
      "    df = pd.DataFrame.from_csv(fpkm_file,sep=\"\\t\",header=0,index_col=(0,6) )\n",
      "    df[sample_name]= df['FPKM']\n",
      "    fpkms_list.append(df[[sample_name]])\n",
      "\n",
      "#join the data\n",
      "fpkms_df = pd.concat(fpkms_list,axis=1)"
     ],
     "language": "python",
     "metadata": {},
     "outputs": [],
     "prompt_number": 119
    },
    {
     "cell_type": "code",
     "collapsed": false,
     "input": [
      "fpkms_df.to_csv('/home/apratap/projects/PCBC_integrative_analysis/data/summarized_expression_calls.tsv',sep=\"\\t\",header=True)"
     ],
     "language": "python",
     "metadata": {},
     "outputs": [],
     "prompt_number": 127
    },
    {
     "cell_type": "heading",
     "level": 3,
     "metadata": {},
     "source": [
      "##Extract the read1/2 quality "
     ]
    },
    {
     "cell_type": "code",
     "collapsed": false,
     "input": [
      "import re\n",
      "from html import HTML\n",
      "import shutil"
     ],
     "language": "python",
     "metadata": {},
     "outputs": []
    },
    {
     "cell_type": "code",
     "collapsed": false,
     "input": [
      "#get the list of relevant files\n",
      "files_list = utils.get_FilesList(data_dir,pattern=\"per_base_sequence_content.png\")\n",
      "files_list = files_list[4:]"
     ],
     "language": "python",
     "metadata": {},
     "outputs": []
    },
    {
     "cell_type": "code",
     "collapsed": false,
     "input": [
      "#make a QC\n",
      "qc_dir = data_dir + '/QC/'\n",
      "if not os.path.exists(qc_dir):\n",
      "    os.mkdir(qc_dir)\n",
      "\n",
      "#make a subfolder for storing images\n",
      "qc_images = qc_dir + '/images/'\n",
      "if not os.path.exists(qc_images):\n",
      "    os.mkdir(qc_images)\n"
     ],
     "language": "python",
     "metadata": {},
     "outputs": []
    },
    {
     "cell_type": "code",
     "collapsed": false,
     "input": [
      "h = HTML('html','Q20 Scores')\n",
      "t = h.table(border='1')"
     ],
     "language": "python",
     "metadata": {},
     "outputs": []
    },
    {
     "cell_type": "code",
     "collapsed": false,
     "input": [
      "regex = re.compile('^.+data/Sample_(.+?)/.*_(.+?)_fastqc.*$')\n",
      "\n",
      "#skip first 4 files\n",
      "for i in range(len(files_list))[::2]:\n",
      "    read1 = files_list[i]\n",
      "    read2 = files_list[i+1]\n",
      "    m1 = regex.search(read1)\n",
      "    m2 = regex.search(read2)\n",
      "    if m1 and m2:\n",
      "        r1 = t.tr\n",
      "        r1.td(m1.group(1))\n",
      "        \n",
      "        if m1.group(2) == 'R2':\n",
      "            #swap\n",
      "            m1,m2 = m2,m1\n",
      "            read1,read2 = read2,read1\n",
      "            \n",
      "        new_read1_file = '%s_%s.png' % (m1.group(1),m1.group(2))\n",
      "        new_read2_file = '%s_%s.png' % (m2.group(1),m2.group(2))\n",
      "        r2 = t.tr\n",
      "        r2.td(m1.group(2)) \n",
      "        r2.td(m2.group(2))\n",
      "        r3 = t.tr\n",
      "        r3.td(u'<img src=\"images/%s\" alt=%s/>' % (new_read1_file, new_read1_file) , escape=False)\n",
      "        r3.td(u'<img src=\"images/%s\" alt=\"%s\"/>' % (new_read2_file, new_read2_file), escape=False )        \n",
      "        \n",
      "        #copy\n",
      "        shutil.copy2(read1, qc_images+new_read1_file)\n",
      "        shutil.copy2(read2, qc_images+new_read2_file)\n",
      "    else:\n",
      "        print 'no match'"
     ],
     "language": "python",
     "metadata": {},
     "outputs": []
    },
    {
     "cell_type": "code",
     "collapsed": false,
     "input": [
      "fh = open(qc_dir+'qc.html','w')\n",
      "fh.write(str(h))\n",
      "fh.close()"
     ],
     "language": "python",
     "metadata": {},
     "outputs": []
    },
    {
     "cell_type": "code",
     "collapsed": false,
     "input": [],
     "language": "python",
     "metadata": {},
     "outputs": []
    }
   ],
   "metadata": {}
  }
 ]
}