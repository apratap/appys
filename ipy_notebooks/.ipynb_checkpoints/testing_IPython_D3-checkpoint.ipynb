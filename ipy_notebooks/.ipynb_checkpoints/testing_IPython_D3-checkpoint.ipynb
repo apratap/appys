{
 "metadata": {
  "name": ""
 },
 "nbformat": 3,
 "nbformat_minor": 0,
 "worksheets": [
  {
   "cells": [
    {
     "cell_type": "code",
     "collapsed": false,
     "input": [
      "from IPython.core.display import Javascript\n",
      "from IPython.core.display import HTML"
     ],
     "language": "python",
     "metadata": {},
     "outputs": [],
     "prompt_number": 30
    },
    {
     "cell_type": "heading",
     "level": 4,
     "metadata": {},
     "source": [
      "injecting JS libs into browser DOM"
     ]
    },
    {
     "cell_type": "code",
     "collapsed": false,
     "input": [
      "Javascript(\"\"\"$.getScript( \"http://rawgithub.com/mbostock/d3/master/d3.min.js\", function( data, textStatus, jqxhr ) {\n",
      "              console.log( data ); // Data returned\n",
      "              console.log( textStatus ); // Success\n",
      "              console.log( jqxhr.status ); // 200\n",
      "              console.log( \"Load was performed.\" );\n",
      "              });\n",
      "          \"\"\")  "
     ],
     "language": "python",
     "metadata": {},
     "outputs": [
      {
       "javascript": [
        "$.getScript( \"http://rawgithub.com/mbostock/d3/master/d3.min.js\", function( data, textStatus, jqxhr ) {\n",
        "              console.log( data ); // Data returned\n",
        "              console.log( textStatus ); // Success\n",
        "              console.log( jqxhr.status ); // 200\n",
        "              console.log( \"Load was performed.\" );\n",
        "              });\n",
        "          "
       ],
       "metadata": {},
       "output_type": "pyout",
       "prompt_number": 33,
       "text": [
        "<IPython.core.display.Javascript at 0x10448b5d0>"
       ]
      }
     ],
     "prompt_number": 33
    },
    {
     "cell_type": "code",
     "collapsed": false,
     "input": [
      "from IPython.core.display import display_javascript, display_html\n",
      "import time"
     ],
     "language": "python",
     "metadata": {},
     "outputs": [],
     "prompt_number": 23
    },
    {
     "cell_type": "code",
     "collapsed": false,
     "input": [
      "%install_ext https://raw.github.com/cschin/ipython_d3_mashup/master/extension/visutils.py\n",
      "%reload_ext visutils"
     ],
     "language": "python",
     "metadata": {},
     "outputs": [
      {
       "output_type": "stream",
       "stream": "stdout",
       "text": [
        "Installed visutils.py. To use it, type:\n",
        "  %load_ext visutils\n"
       ]
      }
     ],
     "prompt_number": 24
    },
    {
     "cell_type": "code",
     "collapsed": false,
     "input": [
      "vis.run_js(\"$.getScript('http://d3js.org/d3.v2.js')\")\n",
      "vis.run_js(\"$.getScript('https://raw.github.com/cschin/ipython_d3_mashup/master/extension/vis_extension.js')\")\n",
      "time.sleep(2)\n",
      "vis.run_js(\"IPython.vis_init();\")"
     ],
     "language": "python",
     "metadata": {},
     "outputs": [
      {
       "javascript": [
        "$.getScript('http://d3js.org/d3.v2.js')"
       ],
       "metadata": {},
       "output_type": "display_data"
      },
      {
       "javascript": [
        "$.getScript('https://raw.github.com/cschin/ipython_d3_mashup/master/extension/vis_extension.js')"
       ],
       "metadata": {},
       "output_type": "display_data"
      },
      {
       "javascript": [
        "IPython.vis_init();"
       ],
       "metadata": {},
       "output_type": "display_data"
      }
     ],
     "prompt_number": 26
    },
    {
     "cell_type": "code",
     "collapsed": false,
     "input": [
      "from IPython.core.display import Javascript\n",
      "Javascript(\"$.getScript('/static/d3/d3.js')\")"
     ],
     "language": "python",
     "metadata": {},
     "outputs": [
      {
       "javascript": [
        "$.getScript('/static/d3/d3.js')"
       ],
       "metadata": {},
       "output_type": "pyout",
       "prompt_number": 27,
       "text": [
        "<IPython.core.display.Javascript at 0x10448b690>"
       ]
      }
     ],
     "prompt_number": 27
    },
    {
     "cell_type": "code",
     "collapsed": false,
     "input": [
      "js = \"\"\"\n",
      "IPython.vis_init();\n",
      "IPython.vis_utils.insert_vis_cell(\"vis\");\n",
      "var vc = IPython.vis_utils.name_to_viscell[\"vis\"];\n",
      "\"\"\"\n",
      "display_javascript(js, raw=True)"
     ],
     "language": "python",
     "metadata": {},
     "outputs": [
      {
       "javascript": [
        "\n",
        "IPython.vis_init();\n",
        "IPython.vis_utils.insert_vis_cell(\"vis\");\n",
        "var vc = IPython.vis_utils.name_to_viscell[\"vis\"];\n"
       ],
       "metadata": {},
       "output_type": "display_data"
      }
     ],
     "prompt_number": 14
    },
    {
     "cell_type": "code",
     "collapsed": false,
     "input": [
      "js=\"\"\"\n",
      "var svg = d3.select(\"#vis\")\n",
      "    .append(\"svg\")\n",
      "    .attr(\"width\", 500)\n",
      "    .attr(\"height\", 450);\n",
      "\"\"\"\n",
      "display_javascript(js, raw=True)"
     ],
     "language": "python",
     "metadata": {},
     "outputs": [
      {
       "javascript": [
        "\n",
        "var svg = d3.select(\"#vis\")\n",
        "    .append(\"svg\")\n",
        "    .attr(\"width\", 500)\n",
        "    .attr(\"height\", 450);\n"
       ],
       "metadata": {},
       "output_type": "display_data"
      }
     ],
     "prompt_number": 16
    },
    {
     "cell_type": "code",
     "collapsed": false,
     "input": [],
     "language": "python",
     "metadata": {},
     "outputs": []
    }
   ],
   "metadata": {}
  }
 ]
}