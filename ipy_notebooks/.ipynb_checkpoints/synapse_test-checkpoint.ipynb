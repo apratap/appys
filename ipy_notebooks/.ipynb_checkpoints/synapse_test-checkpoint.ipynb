{
 "metadata": {
  "name": ""
 },
 "nbformat": 3,
 "nbformat_minor": 0,
 "worksheets": [
  {
   "cells": [
    {
     "cell_type": "code",
     "collapsed": false,
     "input": [
      "import synapseclient"
     ],
     "language": "python",
     "metadata": {},
     "outputs": [],
     "prompt_number": 99
    },
    {
     "cell_type": "code",
     "collapsed": false,
     "input": [
      "syn=synapseclient.Synapse()\n",
      "syn.login()"
     ],
     "language": "python",
     "metadata": {},
     "outputs": [
      {
       "output_type": "stream",
       "stream": "stdout",
       "text": [
        "Welcome, Abhishek Pratap!\n"
       ]
      },
      {
       "output_type": "stream",
       "stream": "stderr",
       "text": [
        "Exception in version check: HTTPConnectionPool(host='versions.synapse.sagebase.org', port=80): Max retries exceeded with url: /synapsePythonClient (Caused by <class 'httplib.BadStatusLine'>: '')\n"
       ]
      }
     ],
     "prompt_number": 100
    },
    {
     "cell_type": "heading",
     "level": 1,
     "metadata": {},
     "source": [
      "#Testing Synapse"
     ]
    },
    {
     "cell_type": "code",
     "collapsed": false,
     "input": [
      "#new connection and login using .configSynapse file\n",
      "syn = synapseclient.Synapse()\n",
      "syn.login()"
     ],
     "language": "python",
     "metadata": {},
     "outputs": [
      {
       "output_type": "stream",
       "stream": "stdout",
       "text": [
        "Welcome, Abhishek Pratap!\n"
       ]
      }
     ],
     "prompt_number": 101
    },
    {
     "cell_type": "code",
     "collapsed": false,
     "input": [
      "#get info about a current project/folder in Synapse\n",
      "existing_project = syn.get('syn1901847')\n"
     ],
     "language": "python",
     "metadata": {},
     "outputs": [],
     "prompt_number": 102
    },
    {
     "cell_type": "code",
     "collapsed": false,
     "input": [
      "existing_project"
     ],
     "language": "python",
     "metadata": {},
     "outputs": [
      {
       "metadata": {},
       "output_type": "pyout",
       "prompt_number": 103,
       "text": [
        "Project(modifiedOn=u'2013-06-04T20:55:57.107Z', modifiedBy=u'Brian Bot', entityType=u'org.sagebionetworks.repo.model.Project', creationDate=u'1370379357107', name=u'Wondrous Research Example', uri=u'/entity/syn1901847/annotations', etag=u'025f1606-8dc4-40e2-af60-08ab39ac1ab4', createdBy=u'Brian Bot', parentId=u'syn4489', concreteType='org.sagebionetworks.repo.model.Project', uri=u'/repo/v1/entity/syn1901847', annotations=u'/repo/v1/entity/syn1901847/annotations', accessControlList=u'/repo/v1/entity/syn1901847/acl', createdOn=u'2013-06-04T20:55:57.107Z', id=u'syn1901847')"
       ]
      }
     ],
     "prompt_number": 103
    },
    {
     "cell_type": "code",
     "collapsed": false,
     "input": [
      "#get only the metadata\n",
      "proj_metadata_only = syn.get('syn1906480',downloadFile=False)"
     ],
     "language": "python",
     "metadata": {},
     "outputs": [],
     "prompt_number": 104
    },
    {
     "cell_type": "code",
     "collapsed": false,
     "input": [
      "#create a project\n",
      "project = synapseclient.Project('test_apratap')\n",
      "project = syn.store(project)"
     ],
     "language": "python",
     "metadata": {},
     "outputs": [],
     "prompt_number": 112
    },
    {
     "cell_type": "code",
     "collapsed": false,
     "input": [
      "print project"
     ],
     "language": "python",
     "metadata": {},
     "outputs": [
      {
       "output_type": "stream",
       "stream": "stdout",
       "text": [
        "Project: test_apratap (syn2171593)\n",
        "properties:\n",
        "  accessControlList=/repo/v1/entity/syn2171593/acl\n",
        "  annotations=/repo/v1/entity/syn2171593/annotations\n",
        "  concreteType=org.sagebionetworks.repo.model.Project\n",
        "  createdBy=Abhishek Pratap\n",
        "  createdOn=2013-08-21T17:09:11.418Z\n",
        "  entityType=org.sagebionetworks.repo.model.Project\n",
        "  etag=a0431fff-3aa3-46d0-a39a-33cca45a3d8e\n",
        "  id=syn2171593\n",
        "  modifiedBy=Abhishek Pratap\n",
        "  modifiedOn=2013-08-26T22:20:22.383Z\n",
        "  name=test_apratap\n",
        "  parentId=syn4489\n",
        "  uri=/repo/v1/entity/syn2171593\n",
        "annotations:\n",
        "  creationDate=1377104951418\n",
        "  etag=a0431fff-3aa3-46d0-a39a-33cca45a3d8e\n",
        "  id=syn2171593\n",
        "  uri=/entity/syn2171593/annotations\n",
        "\n"
       ]
      }
     ],
     "prompt_number": 113
    },
    {
     "cell_type": "code",
     "collapsed": false,
     "input": [
      "#print the project entity id\n",
      "print project.id"
     ],
     "language": "python",
     "metadata": {},
     "outputs": [
      {
       "output_type": "stream",
       "stream": "stdout",
       "text": [
        "syn2171593\n"
       ]
      }
     ],
     "prompt_number": 114
    },
    {
     "cell_type": "code",
     "collapsed": false,
     "input": [
      "#create a folder under a project\n",
      "data_folder = synapseclient.Folder('Data',parent=project)\n",
      "data_folder = syn.store(data_folder)"
     ],
     "language": "python",
     "metadata": {},
     "outputs": [],
     "prompt_number": 115
    },
    {
     "cell_type": "code",
     "collapsed": false,
     "input": [
      "#print the data folder id\n",
      "print data_folder.id"
     ],
     "language": "python",
     "metadata": {},
     "outputs": [
      {
       "output_type": "stream",
       "stream": "stdout",
       "text": [
        "syn2171607\n"
       ]
      }
     ],
     "prompt_number": 116
    },
    {
     "cell_type": "code",
     "collapsed": false,
     "input": [
      "#poplulate Snyapse with annotation\n",
      "project.test = 'pass'\n",
      "project.foo = 'bar'\n",
      "project = syn.store(project)"
     ],
     "language": "python",
     "metadata": {},
     "outputs": [],
     "prompt_number": 117
    },
    {
     "cell_type": "heading",
     "level": 2,
     "metadata": {},
     "source": [
      "#Full example of getting data from Synpase and making a plot"
     ]
    },
    {
     "cell_type": "code",
     "collapsed": false,
     "input": [
      "import numpy as np"
     ],
     "language": "python",
     "metadata": {},
     "outputs": [],
     "prompt_number": 118
    },
    {
     "cell_type": "code",
     "collapsed": false,
     "input": [
      "#GET THE FILE WITH RESPONSES\n",
      "resp_file = syn.get('syn1906479',)\n",
      "resp = np.loadtxt(resp_file.path, skiprows=1, usecols=(1,))"
     ],
     "language": "python",
     "metadata": {},
     "outputs": [],
     "prompt_number": 119
    },
    {
     "cell_type": "code",
     "collapsed": false,
     "input": [
      "#GET THE EXPRESSION DATA\n",
      "expr_file = syn.get('syn1906480')\n",
      "expr = np.loadtxt(expr_file.path, skiprows=1, usecols=range(1,len(resp) + 1))"
     ],
     "language": "python",
     "metadata": {},
     "outputs": [],
     "prompt_number": 120
    },
    {
     "cell_type": "code",
     "collapsed": false,
     "input": [
      "#Calculate p-values for the expression differences between response groups\n",
      "import scipy.stats as stats\n",
      "pvals = [stats.ttest_ind(row[resp==0], row[resp==1])[1] for row in expr]"
     ],
     "language": "python",
     "metadata": {},
     "outputs": [],
     "prompt_number": 121
    },
    {
     "cell_type": "code",
     "collapsed": false,
     "input": [
      "#make a p-value histogram and store in synapse\n",
      "import pylab\n",
      "pylab.hist(pvals)\n",
      "pylab.savefig('hist.png')\n",
      "\n",
      "\n",
      "#store in our folder we created earlier\n",
      "plot_file = synapseclient.File('hist.png',description='Histogram pf P-values', parentId=data_folder.id)\n",
      "plot_file = syn.store(plot_file)\n"
     ],
     "language": "python",
     "metadata": {},
     "outputs": [
      {
       "output_type": "stream",
       "stream": "stdout",
       "text": [
        "."
       ]
      },
      {
       "output_type": "stream",
       "stream": "stdout",
       "text": [
        "."
       ]
      },
      {
       "output_type": "stream",
       "stream": "stdout",
       "text": [
        ","
       ]
      },
      {
       "output_type": "stream",
       "stream": "stdout",
       "text": [
        "!"
       ]
      },
      {
       "output_type": "stream",
       "stream": "stdout",
       "text": [
        "!\n"
       ]
      },
      {
       "output_type": "stream",
       "stream": "stdout",
       "text": [
        "Upload completed in 12 seconds.\n"
       ]
      }
     ],
     "prompt_number": 122
    },
    {
     "cell_type": "code",
     "collapsed": false,
     "input": [
      "syn.onweb(data_folder.id)"
     ],
     "language": "python",
     "metadata": {},
     "outputs": [],
     "prompt_number": 123
    }
   ],
   "metadata": {}
  }
 ]
}