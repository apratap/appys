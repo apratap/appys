{
 "metadata": {
  "name": ""
 },
 "nbformat": 3,
 "nbformat_minor": 0,
 "worksheets": [
  {
   "cells": [
    {
     "cell_type": "code",
     "collapsed": false,
     "input": [
      "import sys\n",
      "import pandas as pd\n",
      "import numpy as np\n",
      "import itertools as it\n",
      "import zipfile\n",
      "import re"
     ],
     "language": "python",
     "metadata": {},
     "outputs": [],
     "prompt_number": 20
    },
    {
     "cell_type": "code",
     "collapsed": false,
     "input": [
      "#adding the lib path\n",
      "sys.path.append('/Users/abhishek/dev/appys/lib/')"
     ],
     "language": "python",
     "metadata": {},
     "outputs": [],
     "prompt_number": 2
    },
    {
     "cell_type": "code",
     "collapsed": false,
     "input": [
      "import utils"
     ],
     "language": "python",
     "metadata": {},
     "outputs": [],
     "prompt_number": 3
    },
    {
     "cell_type": "code",
     "collapsed": false,
     "input": [
      "#presets\n",
      "data_dir = \"/Users/abhishek/apratap_bt/projects/PCBC_integrative_analysis/data/\""
     ],
     "language": "python",
     "metadata": {},
     "outputs": [],
     "prompt_number": 4
    },
    {
     "cell_type": "code",
     "collapsed": false,
     "input": [
      "#get all the expression files\n",
      "fpkm_files = utils.get_FilesList(data_dir,pattern='genes.fpkm_tracking')\n"
     ],
     "language": "python",
     "metadata": {},
     "outputs": [
      {
       "output_type": "stream",
       "stream": "stdout",
       "text": [
        "[get_FilesList]: Found 8 files at /Users/abhishek/apratap_bt/projects/PCBC_integrative_analysis/data/\n"
       ]
      }
     ],
     "prompt_number": 8
    },
    {
     "cell_type": "code",
     "collapsed": false,
     "input": [
      "fpkms = {}\n",
      "index = ''\n",
      "for fpkm_file in fpkm_files:\n",
      "    sample_name = fpkm_file.split('/')[7].split('_')[2]\n",
      "    df = pd.DataFrame.from_csv(fpkm_file,sep=\"\\t\",header=0)\n",
      "    fpkms[sample_name]= df['FPKM'].values\n",
      "    index = df.index"
     ],
     "language": "python",
     "metadata": {},
     "outputs": [],
     "prompt_number": 49
    },
    {
     "cell_type": "code",
     "collapsed": false,
     "input": [
      "df = pd.DataFrame(fpkms,index=index)"
     ],
     "language": "python",
     "metadata": {},
     "outputs": [],
     "prompt_number": 51
    },
    {
     "cell_type": "code",
     "collapsed": false,
     "input": [
      "df.to_csv('/Users/abhishek/apratap_bt/projects/PCBC_integrative_analysis/data/summarized_expression_calls.tsv',\n",
      "          sep=\"\\t\",header=True)"
     ],
     "language": "python",
     "metadata": {},
     "outputs": [],
     "prompt_number": 56
    }
   ],
   "metadata": {}
  }
 ]
}