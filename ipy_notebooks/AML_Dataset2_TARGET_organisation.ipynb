{
 "metadata": {
  "name": ""
 },
 "nbformat": 3,
 "nbformat_minor": 0,
 "worksheets": [
  {
   "cells": [
    {
     "cell_type": "code",
     "collapsed": false,
     "input": [
      "import pandas\n",
      "import pandas as pd\n",
      "import os\n",
      "import sys\n",
      "import numpy as np\n",
      "import synapseclient"
     ],
     "language": "python",
     "metadata": {},
     "outputs": [],
     "prompt_number": 49
    },
    {
     "cell_type": "code",
     "collapsed": false,
     "input": [
      "syn = synapseclient.login()"
     ],
     "language": "python",
     "metadata": {},
     "outputs": [
      {
       "output_type": "stream",
       "stream": "stdout",
       "text": [
        "Welcome, apratap@sagebase.org!\n"
       ]
      }
     ],
     "prompt_number": 50
    },
    {
     "cell_type": "heading",
     "level": 2,
     "metadata": {},
     "source": [
      "Organize AML Dataset 2 : TARGET Pediatric"
     ]
    },
    {
     "cell_type": "code",
     "collapsed": false,
     "input": [
      "#metadata to decode the patient ID\n",
      "target_sample_key_lookup = {'09A':'Dx from bone marrow',\n",
      "                            '03A':'Dx from peripheral blood',\n",
      "                            '10A':'remission from peripheral blood',\n",
      "                            '14A':'remission from bone marrow',\n",
      "                            '04A':'relapse from bone marrow',\n",
      "                            '40A':'relapse from peripheral blood',\n",
      "                            '01D':'DNA aliquot 1',\n",
      "                            '02D':'DNA aliquot 2',\n",
      "                            '03D':'DNA aliquot 3',\n",
      "                            '01R':'RNA aliquot 1',\n",
      "                            '02R':'RNA aliquot 2',\n",
      "                            '03R':'RNA aliquot 3'}"
     ],
     "language": "python",
     "metadata": {},
     "outputs": [],
     "prompt_number": 39
    },
    {
     "cell_type": "code",
     "collapsed": false,
     "input": [
      "#parent project ID for AML dataset2 \n",
      "target_aml_project_synID = 'syn2325151'"
     ],
     "language": "python",
     "metadata": {},
     "outputs": [],
     "prompt_number": 51
    },
    {
     "cell_type": "heading",
     "level": 3,
     "metadata": {},
     "source": [
      "Gene expression data"
     ]
    },
    {
     "cell_type": "code",
     "collapsed": false,
     "input": [
      "geneExp_metadata = \"/external-data/DAT_118__AML/dataset2-TARGET_AML/gene_expression/MAGE-TAB_TARGET_AML_GEX_Affymetrix_20140203_FINAL.xlsx\"\n",
      "geneExp_metadata_df = pandas.io.excel.read_excel(geneExp_metadata, sheetname='TARGET_AML_GEX_Affymetrix.sdrf')"
     ],
     "language": "python",
     "metadata": {},
     "outputs": [],
     "prompt_number": 15
    },
    {
     "cell_type": "code",
     "collapsed": false,
     "input": [
      "geneExp = \"/external-data/DAT_118__AML/dataset2-TARGET_AML/gene_expression/TARGET_AML_GE_level3.txt\"\n",
      "geneExp_df = pandas.DataFrame.from_csv(geneExp, header=0, sep=\"\\t\")\n",
      "geneExp_df.reset_index(inplace=True)\n",
      "geneExp_df['geneID'] = geneExp_df['ID']\n",
      "geneExp_df = geneExp_df.drop(['ID'], axis=1)\n",
      "geneExp_df = geneExp_df.drop(['Gene Symbol'],axis=1)"
     ],
     "language": "python",
     "metadata": {},
     "outputs": [],
     "prompt_number": 16
    },
    {
     "cell_type": "code",
     "collapsed": false,
     "input": [
      "#creating metadata file\n",
      "metaData = pandas.DataFrame({'ID':geneExp_df.columns})\n",
      "\n",
      "def _process_df(row):\n",
      "    x = row.ID\n",
      "    split = x.split('-')\n",
      "    if len(split) == 5:\n",
      "        return(pandas.Series([row.ID,'-'.join(split[:3]), split[3], split[4]]))\n",
      "    else:\n",
      "        return(pandas.Series([row.ID,x,None, None]))\n",
      "    \n",
      "metaData = metaData.apply(_process_df,axis=1)\n",
      "metaData.columns = ['ID' ,'patientID', 'sample_code', 'aliquot_code']\n",
      "metaData['sample_description'] = metaData.sample_code.map(target_sample_key_lookup)\n",
      "metaData['aliquot_description'] = metaData.aliquot_code.map(target_sample_key_lookup)"
     ],
     "language": "python",
     "metadata": {},
     "outputs": [],
     "prompt_number": 40
    },
    {
     "cell_type": "code",
     "collapsed": false,
     "input": [],
     "language": "python",
     "metadata": {},
     "outputs": []
    },
    {
     "cell_type": "code",
     "collapsed": false,
     "input": [
      "#store \n",
      "geneExp_folder = syn.store(synapseclient.Folder(name='array_geneExp', parent=target_aml_project_synID))\n",
      "\n",
      "\n",
      "os.path.dirname(geneExp)\n",
      "os.path.basename(geneExp)\n",
      "\n"
     ],
     "language": "python",
     "metadata": {},
     "outputs": [
      {
       "metadata": {},
       "output_type": "pyout",
       "prompt_number": 56,
       "text": [
        "'TARGET_AML_GE_level3.txt'"
       ]
      }
     ],
     "prompt_number": 56
    },
    {
     "cell_type": "code",
     "collapsed": false,
     "input": [
      "geneExo_metadata_df = metaData.merge(geneExp_metadata_df, left_on='patientID', right_on='Source Name')"
     ],
     "language": "python",
     "metadata": {},
     "outputs": [],
     "prompt_number": 57
    },
    {
     "cell_type": "code",
     "collapsed": false,
     "input": [],
     "language": "python",
     "metadata": {},
     "outputs": []
    }
   ],
   "metadata": {}
  }
 ]
}