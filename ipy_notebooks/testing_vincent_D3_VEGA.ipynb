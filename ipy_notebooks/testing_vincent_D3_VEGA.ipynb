{
 "metadata": {
  "name": ""
 },
 "nbformat": 3,
 "nbformat_minor": 0,
 "worksheets": [
  {
   "cells": [
    {
     "cell_type": "code",
     "collapsed": false,
     "input": [
      "Not very useful for interactive\n",
      "The vincent library is main spits out static D3/JS graphic which undermines the whole rational of using D3"
     ],
     "language": "python",
     "metadata": {},
     "outputs": []
    },
    {
     "cell_type": "code",
     "collapsed": false,
     "input": [
      "import vincent\n",
      "import pandas as pd\n",
      "import random"
     ],
     "language": "python",
     "metadata": {},
     "outputs": [],
     "prompt_number": 1
    },
    {
     "cell_type": "code",
     "collapsed": false,
     "input": [
      "#Iterable\n",
      "list_data = [10, 20, 30, 20, 15, 30, 45]\n",
      "\n",
      "#Dicts of iterables\n",
      "cat_1 = ['y1', 'y2', 'y3', 'y4']\n",
      "index_1 = range(0, 21, 1)\n",
      "multi_iter1 = {'index': index_1}\n",
      "for cat in cat_1:\n",
      "    multi_iter1[cat] = [random.randint(10, 100) for x in index_1]\n",
      "\n",
      "cat_2 = ['y' + str(x) for x in range(0, 10, 1)]\n",
      "index_2 = range(1, 21, 1)\n",
      "multi_iter2 = {'index': index_2}\n",
      "for cat in cat_2:\n",
      "    multi_iter2[cat] = [random.randint(10, 100) for x in index_2]\n",
      "\n",
      "farm_1 = {'apples': 10, 'berries': 32, 'squash': 21, 'melons': 13, 'corn': 18}\n",
      "farm_2 = {'apples': 15, 'berries': 43, 'squash': 17, 'melons': 10, 'corn': 22}\n",
      "farm_3 = {'apples': 6, 'berries': 24, 'squash': 22, 'melons': 16, 'corn': 30}\n",
      "farm_4 = {'apples': 12, 'berries': 30, 'squash': 15, 'melons': 9, 'corn': 15}\n",
      "\n",
      "farm_data = [farm_1, farm_2, farm_3, farm_4]\n",
      "farm_index = ['Farm 1', 'Farm 2', 'Farm 3', 'Farm 4']\n",
      "df_farm = pd.DataFrame(farm_data, index=farm_index)\n",
      "\n",
      "\n",
      "#As data frames\n",
      "index_3 = multi_iter2.get('index')\n",
      "df_1 = pd.DataFrame(multi_iter2, index=index_3)\n",
      "df_1 = df_1.reindex(columns=sorted(df_1.columns))\n",
      "\n",
      "cat_4 = ['Metric_' + str(x) for x in range(0, 10, 1)]\n",
      "index_4 = ['Data 1', 'Data 2', 'Data 3', 'Data 4']\n",
      "data_3 = {}\n",
      "for cat in cat_4:\n",
      "    data_3[cat] = [random.randint(10, 100) for x in index_4]\n",
      "df_2 = pd.DataFrame(data_3, index=index_4)"
     ],
     "language": "python",
     "metadata": {},
     "outputs": [],
     "prompt_number": 8
    },
    {
     "cell_type": "code",
     "collapsed": false,
     "input": [
      "vincent.core.initialize_notebook()"
     ],
     "language": "python",
     "metadata": {},
     "outputs": [
      {
       "javascript": [
        "$.getScript(\"http://d3js.org/d3.v3.min.js\", function() {\n",
        "        $.getScript(\"http://trifacta.github.com/vega/vega.js\", function() {\n",
        "            $([IPython.events]).trigger(\"vega_loaded.vincent\");\n",
        "        })\n",
        "    });"
       ],
       "metadata": {},
       "output_type": "display_data",
       "text": [
        "<IPython.core.display.Javascript at 0x10668f810>"
       ]
      }
     ],
     "prompt_number": 9
    },
    {
     "cell_type": "code",
     "collapsed": false,
     "input": [
      "bar = vincent.Bar(multi_iter1['y1'])\n",
      "bar.axis_titles(x='index',y='value')\n",
      "bar.display()"
     ],
     "language": "python",
     "metadata": {},
     "outputs": [
      {
       "html": [
        "<div id=\"vis50762\"></div>"
       ],
       "metadata": {},
       "output_type": "display_data",
       "text": [
        "<IPython.core.display.HTML at 0x106600f90>"
       ]
      },
      {
       "javascript": [
        "\n",
        "( function() {\n",
        "  var _do_plot = function() {\n",
        "    if ( typeof vg == 'undefined' ) {\n",
        "      $([IPython.events]).on(\"vega_loaded.vincent\", _do_plot);\n",
        "      return;\n",
        "    }\n",
        "    vg.parse.spec({\"axes\": [{\"scale\": \"x\", \"title\": \"index\", \"type\": \"x\"}, {\"scale\": \"y\", \"title\": \"value\", \"type\": \"y\"}], \"data\": [{\"name\": \"table\", \"values\": [{\"col\": \"data\", \"idx\": 0, \"val\": 94}, {\"col\": \"data\", \"idx\": 1, \"val\": 50}, {\"col\": \"data\", \"idx\": 2, \"val\": 88}, {\"col\": \"data\", \"idx\": 3, \"val\": 69}, {\"col\": \"data\", \"idx\": 4, \"val\": 68}, {\"col\": \"data\", \"idx\": 5, \"val\": 50}, {\"col\": \"data\", \"idx\": 6, \"val\": 85}, {\"col\": \"data\", \"idx\": 7, \"val\": 24}, {\"col\": \"data\", \"idx\": 8, \"val\": 68}, {\"col\": \"data\", \"idx\": 9, \"val\": 52}, {\"col\": \"data\", \"idx\": 10, \"val\": 78}, {\"col\": \"data\", \"idx\": 11, \"val\": 30}, {\"col\": \"data\", \"idx\": 12, \"val\": 79}, {\"col\": \"data\", \"idx\": 13, \"val\": 32}, {\"col\": \"data\", \"idx\": 14, \"val\": 67}, {\"col\": \"data\", \"idx\": 15, \"val\": 34}, {\"col\": \"data\", \"idx\": 16, \"val\": 51}, {\"col\": \"data\", \"idx\": 17, \"val\": 69}, {\"col\": \"data\", \"idx\": 18, \"val\": 52}, {\"col\": \"data\", \"idx\": 19, \"val\": 53}, {\"col\": \"data\", \"idx\": 20, \"val\": 98}]}], \"height\": 500, \"legends\": [], \"marks\": [{\"from\": {\"data\": \"table\"}, \"properties\": {\"enter\": {\"width\": {\"band\": true, \"offset\": -1, \"scale\": \"x\"}, \"x\": {\"field\": \"data.idx\", \"scale\": \"x\"}, \"y\": {\"field\": \"data.val\", \"scale\": \"y\"}, \"y2\": {\"scale\": \"y\", \"value\": 0}}, \"update\": {\"fill\": {\"value\": \"steelblue\"}}}, \"type\": \"rect\"}], \"padding\": {\"bottom\": 50, \"left\": 50, \"right\": 100, \"top\": 10}, \"scales\": [{\"domain\": {\"data\": \"table\", \"field\": \"data.idx\"}, \"name\": \"x\", \"range\": \"width\", \"type\": \"ordinal\"}, {\"domain\": {\"data\": \"table\", \"field\": \"data.val\"}, \"name\": \"y\", \"nice\": true, \"range\": \"height\"}], \"width\": 960}, function(chart) {\n",
        "      chart({el: \"#vis50762\"}).update();\n",
        "    });\n",
        "  };\n",
        "  _do_plot();\n",
        "})();\n"
       ],
       "metadata": {},
       "output_type": "display_data",
       "text": [
        "<IPython.core.display.Javascript at 0x106600b50>"
       ]
      }
     ],
     "prompt_number": 10
    },
    {
     "cell_type": "code",
     "collapsed": false,
     "input": [
      "line = vincent.Line(multi_iter1, iter_idx='index')\n",
      "line.axis_titles(x='Index', y='Value')\n",
      "line.legend(title='Categories')\n",
      "line.display()"
     ],
     "language": "python",
     "metadata": {},
     "outputs": [
      {
       "html": [
        "<div id=\"vis30978\"></div>"
       ],
       "metadata": {},
       "output_type": "display_data",
       "text": [
        "<IPython.core.display.HTML at 0x10668f9d0>"
       ]
      },
      {
       "javascript": [
        "\n",
        "( function() {\n",
        "  var _do_plot = function() {\n",
        "    if ( typeof vg == 'undefined' ) {\n",
        "      $([IPython.events]).on(\"vega_loaded.vincent\", _do_plot);\n",
        "      return;\n",
        "    }\n",
        "    vg.parse.spec({\"axes\": [{\"scale\": \"x\", \"title\": \"Index\", \"type\": \"x\"}, {\"scale\": \"y\", \"title\": \"Value\", \"type\": \"y\"}], \"data\": [{\"name\": \"table\", \"values\": [{\"col\": \"y1\", \"idx\": 0, \"val\": 94}, {\"col\": \"y1\", \"idx\": 1, \"val\": 50}, {\"col\": \"y1\", \"idx\": 2, \"val\": 88}, {\"col\": \"y1\", \"idx\": 3, \"val\": 69}, {\"col\": \"y1\", \"idx\": 4, \"val\": 68}, {\"col\": \"y1\", \"idx\": 5, \"val\": 50}, {\"col\": \"y1\", \"idx\": 6, \"val\": 85}, {\"col\": \"y1\", \"idx\": 7, \"val\": 24}, {\"col\": \"y1\", \"idx\": 8, \"val\": 68}, {\"col\": \"y1\", \"idx\": 9, \"val\": 52}, {\"col\": \"y1\", \"idx\": 10, \"val\": 78}, {\"col\": \"y1\", \"idx\": 11, \"val\": 30}, {\"col\": \"y1\", \"idx\": 12, \"val\": 79}, {\"col\": \"y1\", \"idx\": 13, \"val\": 32}, {\"col\": \"y1\", \"idx\": 14, \"val\": 67}, {\"col\": \"y1\", \"idx\": 15, \"val\": 34}, {\"col\": \"y1\", \"idx\": 16, \"val\": 51}, {\"col\": \"y1\", \"idx\": 17, \"val\": 69}, {\"col\": \"y1\", \"idx\": 18, \"val\": 52}, {\"col\": \"y1\", \"idx\": 19, \"val\": 53}, {\"col\": \"y1\", \"idx\": 20, \"val\": 98}, {\"col\": \"y2\", \"idx\": 0, \"val\": 22}, {\"col\": \"y2\", \"idx\": 1, \"val\": 94}, {\"col\": \"y2\", \"idx\": 2, \"val\": 90}, {\"col\": \"y2\", \"idx\": 3, \"val\": 40}, {\"col\": \"y2\", \"idx\": 4, \"val\": 37}, {\"col\": \"y2\", \"idx\": 5, \"val\": 57}, {\"col\": \"y2\", \"idx\": 6, \"val\": 26}, {\"col\": \"y2\", \"idx\": 7, \"val\": 95}, {\"col\": \"y2\", \"idx\": 8, \"val\": 93}, {\"col\": \"y2\", \"idx\": 9, \"val\": 72}, {\"col\": \"y2\", \"idx\": 10, \"val\": 97}, {\"col\": \"y2\", \"idx\": 11, \"val\": 80}, {\"col\": \"y2\", \"idx\": 12, \"val\": 89}, {\"col\": \"y2\", \"idx\": 13, \"val\": 53}, {\"col\": \"y2\", \"idx\": 14, \"val\": 49}, {\"col\": \"y2\", \"idx\": 15, \"val\": 10}, {\"col\": \"y2\", \"idx\": 16, \"val\": 75}, {\"col\": \"y2\", \"idx\": 17, \"val\": 23}, {\"col\": \"y2\", \"idx\": 18, \"val\": 32}, {\"col\": \"y2\", \"idx\": 19, \"val\": 45}, {\"col\": \"y2\", \"idx\": 20, \"val\": 19}, {\"col\": \"y3\", \"idx\": 0, \"val\": 41}, {\"col\": \"y3\", \"idx\": 1, \"val\": 81}, {\"col\": \"y3\", \"idx\": 2, \"val\": 63}, {\"col\": \"y3\", \"idx\": 3, \"val\": 97}, {\"col\": \"y3\", \"idx\": 4, \"val\": 96}, {\"col\": \"y3\", \"idx\": 5, \"val\": 80}, {\"col\": \"y3\", \"idx\": 6, \"val\": 19}, {\"col\": \"y3\", \"idx\": 7, \"val\": 85}, {\"col\": \"y3\", \"idx\": 8, \"val\": 72}, {\"col\": \"y3\", \"idx\": 9, \"val\": 12}, {\"col\": \"y3\", \"idx\": 10, \"val\": 33}, {\"col\": \"y3\", \"idx\": 11, \"val\": 79}, {\"col\": \"y3\", \"idx\": 12, \"val\": 46}, {\"col\": \"y3\", \"idx\": 13, \"val\": 77}, {\"col\": \"y3\", \"idx\": 14, \"val\": 27}, {\"col\": \"y3\", \"idx\": 15, \"val\": 68}, {\"col\": \"y3\", \"idx\": 16, \"val\": 87}, {\"col\": \"y3\", \"idx\": 17, \"val\": 34}, {\"col\": \"y3\", \"idx\": 18, \"val\": 92}, {\"col\": \"y3\", \"idx\": 19, \"val\": 77}, {\"col\": \"y3\", \"idx\": 20, \"val\": 51}, {\"col\": \"y4\", \"idx\": 0, \"val\": 75}, {\"col\": \"y4\", \"idx\": 1, \"val\": 66}, {\"col\": \"y4\", \"idx\": 2, \"val\": 17}, {\"col\": \"y4\", \"idx\": 3, \"val\": 67}, {\"col\": \"y4\", \"idx\": 4, \"val\": 96}, {\"col\": \"y4\", \"idx\": 5, \"val\": 41}, {\"col\": \"y4\", \"idx\": 6, \"val\": 96}, {\"col\": \"y4\", \"idx\": 7, \"val\": 19}, {\"col\": \"y4\", \"idx\": 8, \"val\": 79}, {\"col\": \"y4\", \"idx\": 9, \"val\": 43}, {\"col\": \"y4\", \"idx\": 10, \"val\": 23}, {\"col\": \"y4\", \"idx\": 11, \"val\": 98}, {\"col\": \"y4\", \"idx\": 12, \"val\": 69}, {\"col\": \"y4\", \"idx\": 13, \"val\": 36}, {\"col\": \"y4\", \"idx\": 14, \"val\": 31}, {\"col\": \"y4\", \"idx\": 15, \"val\": 61}, {\"col\": \"y4\", \"idx\": 16, \"val\": 23}, {\"col\": \"y4\", \"idx\": 17, \"val\": 23}, {\"col\": \"y4\", \"idx\": 18, \"val\": 71}, {\"col\": \"y4\", \"idx\": 19, \"val\": 32}, {\"col\": \"y4\", \"idx\": 20, \"val\": 93}]}], \"height\": 500, \"legends\": [{\"fill\": \"color\", \"offset\": 0, \"title\": \"Categories\"}], \"marks\": [{\"from\": {\"data\": \"table\", \"transform\": [{\"keys\": [\"data.col\"], \"type\": \"facet\"}]}, \"marks\": [{\"properties\": {\"enter\": {\"stroke\": {\"field\": \"data.col\", \"scale\": \"color\"}, \"strokeWidth\": {\"value\": 2}, \"x\": {\"field\": \"data.idx\", \"scale\": \"x\"}, \"y\": {\"field\": \"data.val\", \"scale\": \"y\"}}}, \"type\": \"line\"}], \"type\": \"group\"}], \"padding\": {\"bottom\": 50, \"left\": 50, \"right\": 100, \"top\": 10}, \"scales\": [{\"domain\": {\"data\": \"table\", \"field\": \"data.idx\"}, \"name\": \"x\", \"range\": \"width\", \"type\": \"linear\"}, {\"domain\": {\"data\": \"table\", \"field\": \"data.val\"}, \"name\": \"y\", \"nice\": true, \"range\": \"height\", \"type\": \"linear\"}, {\"domain\": {\"data\": \"table\", \"field\": \"data.col\"}, \"name\": \"color\", \"range\": \"category20\", \"type\": \"ordinal\"}], \"width\": 960}, function(chart) {\n",
        "      chart({el: \"#vis30978\"}).update();\n",
        "    });\n",
        "  };\n",
        "  _do_plot();\n",
        "})();\n"
       ],
       "metadata": {},
       "output_type": "display_data",
       "text": [
        "<IPython.core.display.Javascript at 0x106626450>"
       ]
      }
     ],
     "prompt_number": 11
    },
    {
     "cell_type": "code",
     "collapsed": false,
     "input": [
      "scatter = vincent.Scatter(multi_iter2, iter_idx='index')\n",
      "scatter.axis_titles(x='Index', y='Data Value')\n",
      "scatter.legend(title='Categories')\n",
      "scatter.colors(brew='Set3')\n",
      "scatter.display()"
     ],
     "language": "python",
     "metadata": {},
     "outputs": [
      {
       "html": [
        "<div id=\"vis11010\"></div>"
       ],
       "metadata": {},
       "output_type": "display_data",
       "text": [
        "<IPython.core.display.HTML at 0x1066a1410>"
       ]
      },
      {
       "javascript": [
        "\n",
        "( function() {\n",
        "  var _do_plot = function() {\n",
        "    if ( typeof vg == 'undefined' ) {\n",
        "      $([IPython.events]).on(\"vega_loaded.vincent\", _do_plot);\n",
        "      return;\n",
        "    }\n",
        "    vg.parse.spec({\"axes\": [{\"scale\": \"x\", \"title\": \"Index\", \"type\": \"x\"}, {\"scale\": \"y\", \"title\": \"Data Value\", \"type\": \"y\"}], \"data\": [{\"name\": \"table\", \"values\": [{\"col\": \"y0\", \"idx\": 1, \"val\": 31}, {\"col\": \"y0\", \"idx\": 2, \"val\": 31}, {\"col\": \"y0\", \"idx\": 3, \"val\": 27}, {\"col\": \"y0\", \"idx\": 4, \"val\": 57}, {\"col\": \"y0\", \"idx\": 5, \"val\": 19}, {\"col\": \"y0\", \"idx\": 6, \"val\": 91}, {\"col\": \"y0\", \"idx\": 7, \"val\": 95}, {\"col\": \"y0\", \"idx\": 8, \"val\": 77}, {\"col\": \"y0\", \"idx\": 9, \"val\": 45}, {\"col\": \"y0\", \"idx\": 10, \"val\": 58}, {\"col\": \"y0\", \"idx\": 11, \"val\": 84}, {\"col\": \"y0\", \"idx\": 12, \"val\": 59}, {\"col\": \"y0\", \"idx\": 13, \"val\": 67}, {\"col\": \"y0\", \"idx\": 14, \"val\": 57}, {\"col\": \"y0\", \"idx\": 15, \"val\": 37}, {\"col\": \"y0\", \"idx\": 16, \"val\": 74}, {\"col\": \"y0\", \"idx\": 17, \"val\": 56}, {\"col\": \"y0\", \"idx\": 18, \"val\": 91}, {\"col\": \"y0\", \"idx\": 19, \"val\": 12}, {\"col\": \"y0\", \"idx\": 20, \"val\": 81}, {\"col\": \"y1\", \"idx\": 1, \"val\": 28}, {\"col\": \"y1\", \"idx\": 2, \"val\": 23}, {\"col\": \"y1\", \"idx\": 3, \"val\": 57}, {\"col\": \"y1\", \"idx\": 4, \"val\": 81}, {\"col\": \"y1\", \"idx\": 5, \"val\": 43}, {\"col\": \"y1\", \"idx\": 6, \"val\": 50}, {\"col\": \"y1\", \"idx\": 7, \"val\": 60}, {\"col\": \"y1\", \"idx\": 8, \"val\": 87}, {\"col\": \"y1\", \"idx\": 9, \"val\": 91}, {\"col\": \"y1\", \"idx\": 10, \"val\": 92}, {\"col\": \"y1\", \"idx\": 11, \"val\": 87}, {\"col\": \"y1\", \"idx\": 12, \"val\": 57}, {\"col\": \"y1\", \"idx\": 13, \"val\": 12}, {\"col\": \"y1\", \"idx\": 14, \"val\": 66}, {\"col\": \"y1\", \"idx\": 15, \"val\": 58}, {\"col\": \"y1\", \"idx\": 16, \"val\": 72}, {\"col\": \"y1\", \"idx\": 17, \"val\": 30}, {\"col\": \"y1\", \"idx\": 18, \"val\": 78}, {\"col\": \"y1\", \"idx\": 19, \"val\": 28}, {\"col\": \"y1\", \"idx\": 20, \"val\": 10}, {\"col\": \"y2\", \"idx\": 1, \"val\": 50}, {\"col\": \"y2\", \"idx\": 2, \"val\": 95}, {\"col\": \"y2\", \"idx\": 3, \"val\": 21}, {\"col\": \"y2\", \"idx\": 4, \"val\": 24}, {\"col\": \"y2\", \"idx\": 5, \"val\": 94}, {\"col\": \"y2\", \"idx\": 6, \"val\": 59}, {\"col\": \"y2\", \"idx\": 7, \"val\": 96}, {\"col\": \"y2\", \"idx\": 8, \"val\": 83}, {\"col\": \"y2\", \"idx\": 9, \"val\": 86}, {\"col\": \"y2\", \"idx\": 10, \"val\": 22}, {\"col\": \"y2\", \"idx\": 11, \"val\": 26}, {\"col\": \"y2\", \"idx\": 12, \"val\": 52}, {\"col\": \"y2\", \"idx\": 13, \"val\": 10}, {\"col\": \"y2\", \"idx\": 14, \"val\": 47}, {\"col\": \"y2\", \"idx\": 15, \"val\": 33}, {\"col\": \"y2\", \"idx\": 16, \"val\": 58}, {\"col\": \"y2\", \"idx\": 17, \"val\": 86}, {\"col\": \"y2\", \"idx\": 18, \"val\": 68}, {\"col\": \"y2\", \"idx\": 19, \"val\": 73}, {\"col\": \"y2\", \"idx\": 20, \"val\": 51}, {\"col\": \"y3\", \"idx\": 1, \"val\": 35}, {\"col\": \"y3\", \"idx\": 2, \"val\": 28}, {\"col\": \"y3\", \"idx\": 3, \"val\": 59}, {\"col\": \"y3\", \"idx\": 4, \"val\": 26}, {\"col\": \"y3\", \"idx\": 5, \"val\": 51}, {\"col\": \"y3\", \"idx\": 6, \"val\": 56}, {\"col\": \"y3\", \"idx\": 7, \"val\": 32}, {\"col\": \"y3\", \"idx\": 8, \"val\": 35}, {\"col\": \"y3\", \"idx\": 9, \"val\": 74}, {\"col\": \"y3\", \"idx\": 10, \"val\": 45}, {\"col\": \"y3\", \"idx\": 11, \"val\": 57}, {\"col\": \"y3\", \"idx\": 12, \"val\": 79}, {\"col\": \"y3\", \"idx\": 13, \"val\": 97}, {\"col\": \"y3\", \"idx\": 14, \"val\": 24}, {\"col\": \"y3\", \"idx\": 15, \"val\": 97}, {\"col\": \"y3\", \"idx\": 16, \"val\": 29}, {\"col\": \"y3\", \"idx\": 17, \"val\": 30}, {\"col\": \"y3\", \"idx\": 18, \"val\": 19}, {\"col\": \"y3\", \"idx\": 19, \"val\": 99}, {\"col\": \"y3\", \"idx\": 20, \"val\": 99}, {\"col\": \"y4\", \"idx\": 1, \"val\": 85}, {\"col\": \"y4\", \"idx\": 2, \"val\": 10}, {\"col\": \"y4\", \"idx\": 3, \"val\": 43}, {\"col\": \"y4\", \"idx\": 4, \"val\": 19}, {\"col\": \"y4\", \"idx\": 5, \"val\": 29}, {\"col\": \"y4\", \"idx\": 6, \"val\": 61}, {\"col\": \"y4\", \"idx\": 7, \"val\": 49}, {\"col\": \"y4\", \"idx\": 8, \"val\": 22}, {\"col\": \"y4\", \"idx\": 9, \"val\": 49}, {\"col\": \"y4\", \"idx\": 10, \"val\": 57}, {\"col\": \"y4\", \"idx\": 11, \"val\": 50}, {\"col\": \"y4\", \"idx\": 12, \"val\": 77}, {\"col\": \"y4\", \"idx\": 13, \"val\": 100}, {\"col\": \"y4\", \"idx\": 14, \"val\": 44}, {\"col\": \"y4\", \"idx\": 15, \"val\": 16}, {\"col\": \"y4\", \"idx\": 16, \"val\": 79}, {\"col\": \"y4\", \"idx\": 17, \"val\": 97}, {\"col\": \"y4\", \"idx\": 18, \"val\": 98}, {\"col\": \"y4\", \"idx\": 19, \"val\": 54}, {\"col\": \"y4\", \"idx\": 20, \"val\": 49}, {\"col\": \"y5\", \"idx\": 1, \"val\": 85}, {\"col\": \"y5\", \"idx\": 2, \"val\": 47}, {\"col\": \"y5\", \"idx\": 3, \"val\": 61}, {\"col\": \"y5\", \"idx\": 4, \"val\": 39}, {\"col\": \"y5\", \"idx\": 5, \"val\": 20}, {\"col\": \"y5\", \"idx\": 6, \"val\": 94}, {\"col\": \"y5\", \"idx\": 7, \"val\": 91}, {\"col\": \"y5\", \"idx\": 8, \"val\": 84}, {\"col\": \"y5\", \"idx\": 9, \"val\": 64}, {\"col\": \"y5\", \"idx\": 10, \"val\": 87}, {\"col\": \"y5\", \"idx\": 11, \"val\": 68}, {\"col\": \"y5\", \"idx\": 12, \"val\": 77}, {\"col\": \"y5\", \"idx\": 13, \"val\": 39}, {\"col\": \"y5\", \"idx\": 14, \"val\": 62}, {\"col\": \"y5\", \"idx\": 15, \"val\": 28}, {\"col\": \"y5\", \"idx\": 16, \"val\": 59}, {\"col\": \"y5\", \"idx\": 17, \"val\": 76}, {\"col\": \"y5\", \"idx\": 18, \"val\": 43}, {\"col\": \"y5\", \"idx\": 19, \"val\": 28}, {\"col\": \"y5\", \"idx\": 20, \"val\": 80}, {\"col\": \"y6\", \"idx\": 1, \"val\": 28}, {\"col\": \"y6\", \"idx\": 2, \"val\": 38}, {\"col\": \"y6\", \"idx\": 3, \"val\": 41}, {\"col\": \"y6\", \"idx\": 4, \"val\": 41}, {\"col\": \"y6\", \"idx\": 5, \"val\": 17}, {\"col\": \"y6\", \"idx\": 6, \"val\": 37}, {\"col\": \"y6\", \"idx\": 7, \"val\": 13}, {\"col\": \"y6\", \"idx\": 8, \"val\": 57}, {\"col\": \"y6\", \"idx\": 9, \"val\": 19}, {\"col\": \"y6\", \"idx\": 10, \"val\": 56}, {\"col\": \"y6\", \"idx\": 11, \"val\": 38}, {\"col\": \"y6\", \"idx\": 12, \"val\": 11}, {\"col\": \"y6\", \"idx\": 13, \"val\": 48}, {\"col\": \"y6\", \"idx\": 14, \"val\": 36}, {\"col\": \"y6\", \"idx\": 15, \"val\": 12}, {\"col\": \"y6\", \"idx\": 16, \"val\": 68}, {\"col\": \"y6\", \"idx\": 17, \"val\": 61}, {\"col\": \"y6\", \"idx\": 18, \"val\": 91}, {\"col\": \"y6\", \"idx\": 19, \"val\": 45}, {\"col\": \"y6\", \"idx\": 20, \"val\": 21}, {\"col\": \"y7\", \"idx\": 1, \"val\": 56}, {\"col\": \"y7\", \"idx\": 2, \"val\": 31}, {\"col\": \"y7\", \"idx\": 3, \"val\": 98}, {\"col\": \"y7\", \"idx\": 4, \"val\": 62}, {\"col\": \"y7\", \"idx\": 5, \"val\": 85}, {\"col\": \"y7\", \"idx\": 6, \"val\": 64}, {\"col\": \"y7\", \"idx\": 7, \"val\": 64}, {\"col\": \"y7\", \"idx\": 8, \"val\": 84}, {\"col\": \"y7\", \"idx\": 9, \"val\": 68}, {\"col\": \"y7\", \"idx\": 10, \"val\": 85}, {\"col\": \"y7\", \"idx\": 11, \"val\": 94}, {\"col\": \"y7\", \"idx\": 12, \"val\": 38}, {\"col\": \"y7\", \"idx\": 13, \"val\": 99}, {\"col\": \"y7\", \"idx\": 14, \"val\": 51}, {\"col\": \"y7\", \"idx\": 15, \"val\": 97}, {\"col\": \"y7\", \"idx\": 16, \"val\": 44}, {\"col\": \"y7\", \"idx\": 17, \"val\": 85}, {\"col\": \"y7\", \"idx\": 18, \"val\": 73}, {\"col\": \"y7\", \"idx\": 19, \"val\": 81}, {\"col\": \"y7\", \"idx\": 20, \"val\": 35}, {\"col\": \"y8\", \"idx\": 1, \"val\": 88}, {\"col\": \"y8\", \"idx\": 2, \"val\": 77}, {\"col\": \"y8\", \"idx\": 3, \"val\": 48}, {\"col\": \"y8\", \"idx\": 4, \"val\": 14}, {\"col\": \"y8\", \"idx\": 5, \"val\": 41}, {\"col\": \"y8\", \"idx\": 6, \"val\": 95}, {\"col\": \"y8\", \"idx\": 7, \"val\": 79}, {\"col\": \"y8\", \"idx\": 8, \"val\": 87}, {\"col\": \"y8\", \"idx\": 9, \"val\": 90}, {\"col\": \"y8\", \"idx\": 10, \"val\": 89}, {\"col\": \"y8\", \"idx\": 11, \"val\": 60}, {\"col\": \"y8\", \"idx\": 12, \"val\": 25}, {\"col\": \"y8\", \"idx\": 13, \"val\": 80}, {\"col\": \"y8\", \"idx\": 14, \"val\": 72}, {\"col\": \"y8\", \"idx\": 15, \"val\": 82}, {\"col\": \"y8\", \"idx\": 16, \"val\": 27}, {\"col\": \"y8\", \"idx\": 17, \"val\": 46}, {\"col\": \"y8\", \"idx\": 18, \"val\": 21}, {\"col\": \"y8\", \"idx\": 19, \"val\": 100}, {\"col\": \"y8\", \"idx\": 20, \"val\": 22}, {\"col\": \"y9\", \"idx\": 1, \"val\": 67}, {\"col\": \"y9\", \"idx\": 2, \"val\": 30}, {\"col\": \"y9\", \"idx\": 3, \"val\": 51}, {\"col\": \"y9\", \"idx\": 4, \"val\": 79}, {\"col\": \"y9\", \"idx\": 5, \"val\": 17}, {\"col\": \"y9\", \"idx\": 6, \"val\": 63}, {\"col\": \"y9\", \"idx\": 7, \"val\": 19}, {\"col\": \"y9\", \"idx\": 8, \"val\": 16}, {\"col\": \"y9\", \"idx\": 9, \"val\": 47}, {\"col\": \"y9\", \"idx\": 10, \"val\": 97}, {\"col\": \"y9\", \"idx\": 11, \"val\": 71}, {\"col\": \"y9\", \"idx\": 12, \"val\": 27}, {\"col\": \"y9\", \"idx\": 13, \"val\": 67}, {\"col\": \"y9\", \"idx\": 14, \"val\": 39}, {\"col\": \"y9\", \"idx\": 15, \"val\": 96}, {\"col\": \"y9\", \"idx\": 16, \"val\": 77}, {\"col\": \"y9\", \"idx\": 17, \"val\": 65}, {\"col\": \"y9\", \"idx\": 18, \"val\": 95}, {\"col\": \"y9\", \"idx\": 19, \"val\": 52}, {\"col\": \"y9\", \"idx\": 20, \"val\": 36}]}], \"height\": 500, \"legends\": [{\"fill\": \"color\", \"offset\": 0, \"title\": \"Categories\"}], \"marks\": [{\"from\": {\"data\": \"table\", \"transform\": [{\"keys\": [\"data.col\"], \"type\": \"facet\"}]}, \"marks\": [{\"properties\": {\"enter\": {\"fill\": {\"field\": \"data.col\", \"scale\": \"color\"}, \"size\": {\"value\": 100}, \"x\": {\"field\": \"data.idx\", \"scale\": \"x\"}, \"y\": {\"field\": \"data.val\", \"scale\": \"y\"}}}, \"type\": \"symbol\"}], \"type\": \"group\"}], \"padding\": {\"bottom\": 50, \"left\": 50, \"right\": 100, \"top\": 10}, \"scales\": [{\"domain\": {\"data\": \"table\", \"field\": \"data.idx\"}, \"name\": \"x\", \"range\": \"width\", \"type\": \"linear\"}, {\"domain\": {\"data\": \"table\", \"field\": \"data.val\"}, \"name\": \"y\", \"nice\": true, \"range\": \"height\", \"type\": \"linear\"}, {\"domain\": {\"data\": \"table\", \"field\": \"data.col\"}, \"name\": \"color\", \"range\": [\"#8dd3c7\", \"#ffffb3\", \"#bebada\", \"#fb8072\", \"#80b1d3\", \"#fdb462\", \"#b3de69\", \"#fccde5\", \"#d9d9d9\", \"#bc80bd\", \"#ccebc5\", \"#ffed6f\"], \"type\": \"ordinal\"}], \"width\": 960}, function(chart) {\n",
        "      chart({el: \"#vis11010\"}).update();\n",
        "    });\n",
        "  };\n",
        "  _do_plot();\n",
        "})();\n"
       ],
       "metadata": {},
       "output_type": "display_data",
       "text": [
        "<IPython.core.display.Javascript at 0x1066a1510>"
       ]
      }
     ],
     "prompt_number": 12
    },
    {
     "cell_type": "code",
     "collapsed": false,
     "input": [],
     "language": "python",
     "metadata": {},
     "outputs": []
    }
   ],
   "metadata": {}
  }
 ]
}