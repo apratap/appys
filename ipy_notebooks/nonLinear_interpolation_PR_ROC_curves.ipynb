{
 "cells": [
  {
   "cell_type": "code",
   "execution_count": 1,
   "metadata": {
    "collapsed": true
   },
   "outputs": [],
   "source": [
    "import numpy as np\n",
    "import synapseclient\n",
    "import os\n",
    "import sys\n",
    "import pandas\n",
    "import pylab as pl\n",
    "\n",
    "import matplotlib.pyplot as plt\n",
    "%matplotlib inline\n",
    "\n",
    "import numpy as np\n",
    "import pylab as pl\n",
    "from sklearn import svm, datasets\n",
    "from sklearn.utils import shuffle\n",
    "from sklearn.metrics import roc_curve, auc"
   ]
  },
  {
   "cell_type": "code",
   "execution_count": 2,
   "metadata": {
    "collapsed": false
   },
   "outputs": [
    {
     "name": "stderr",
     "output_type": "stream",
     "text": [
      "/Users/apratap/anaconda/envs/python2/lib/python2.7/site-packages/matplotlib/__init__.py:1350: UserWarning:  This call to matplotlib.use() has no effect\n",
      "because the backend has already been chosen;\n",
      "matplotlib.use() must be called *before* pylab, matplotlib.pyplot,\n",
      "or matplotlib.backends is imported for the first time.\n",
      "\n",
      "  warnings.warn(_use_error_msg)\n"
     ]
    }
   ],
   "source": [
    "sys.path.append(os.environ['HOME']+\"/dev/appys/lib/\")\n",
    "sys.path.append(os.environ['HOME']+\"/dev/RA_challenge_data_analysis/leaderboard/\")\n",
    "import utils\n",
    "import synLeaderboard\n",
    "from eval_submissions_ra_challenge import *"
   ]
  },
  {
   "cell_type": "code",
   "execution_count": 3,
   "metadata": {
    "collapsed": false
   },
   "outputs": [
    {
     "name": "stdout",
     "output_type": "stream",
     "text": [
      "Welcome, Abhishek Pratap!\n",
      "\n"
     ]
    }
   ],
   "source": [
    "syn = synapseclient.login()"
   ]
  },
  {
   "cell_type": "code",
   "execution_count": 4,
   "metadata": {
    "collapsed": true
   },
   "outputs": [],
   "source": [
    "truth_df = get_truePhenotype_testSamples_RA_challenge(syn)"
   ]
  },
  {
   "cell_type": "markdown",
   "metadata": {},
   "source": [
    "####creating binary class for Precision Recall calculation \n",
    "* 1 = non responder\n",
    "* 0 = responder"
   ]
  },
  {
   "cell_type": "code",
   "execution_count": 5,
   "metadata": {
    "collapsed": true
   },
   "outputs": [],
   "source": [
    "truth_df['true_class'] = np.nan\n",
    "truth_df.true_class[truth_df.Response.isin(['Intermediate', 'Good'])] = 0\n",
    "truth_df.true_class[truth_df.Response.isin(['Non', 'Supernon'])] = 1"
   ]
  },
  {
   "cell_type": "code",
   "execution_count": 6,
   "metadata": {
    "collapsed": true
   },
   "outputs": [],
   "source": [
    "def __get_blockWise_stats(sub_stats):\n",
    "    \n",
    "    #group to calculate group wise stats for each block\n",
    "    grouped = sub_stats.groupby(['predict'], sort=False)\n",
    "    \n",
    "    #instantiate a pandas dataframe to store the results for each group (tied values)\n",
    "    result = pandas.DataFrame.from_dict({'block':xrange(len(grouped)),\n",
    "                                         'block_numElements'  : np.nan,\n",
    "                                         'block_truePos_density' : np.nan,\n",
    "                                         'block_truePos'      : np.nan,\n",
    "                                         'blockValue'   : np.nan\n",
    "                                         })\n",
    "    \n",
    "    for block,grp in enumerate(grouped):\n",
    "        name,grp = grp[0],grp[1]\n",
    "        truePositive = sum(grp.truth == 1)\n",
    "        grp_truePositive_density = truePositive / float(len(grp))\n",
    "        idxs = result.block == block\n",
    "        result.block_truePos_density[idxs] = grp_truePositive_density\n",
    "        result.block_numElements[idxs] = len(grp)\n",
    "        result.block_truePos[idxs] = truePositive\n",
    "        result.blockValue[idxs] = grp.predict.unique()\n",
    "    result.block = result.block + 1\n",
    "    result['cum_numElements'] = result.block_numElements.cumsum()\n",
    "    result['cum_truePos'] = result.block_truePos.cumsum()\n",
    "    \n",
    "    return(result)"
   ]
  },
  {
   "cell_type": "code",
   "execution_count": 7,
   "metadata": {
    "collapsed": true
   },
   "outputs": [],
   "source": [
    "def get_precision_recall_fpr(y_predict, y_true):\n",
    "    \n",
    "    sub_stats = pandas.DataFrame.from_dict({'predict':y_predict, 'truth':y_true}, dtype='float64')\n",
    "    sub_stats = sub_stats.sort_values(by=['predict'],ascending=False)\n",
    "\n",
    "    blockWise_stats = __get_blockWise_stats(sub_stats)\n",
    "    grouped = sub_stats.groupby(['predict'],sort=False)\n",
    "    sub_stats = grouped.apply(__nonlinear_interpolated_evalStats,blockWise_stats)\n",
    "#    sub_stats = sub_stats.sort(columns=['precision'])\n",
    "    precision, recall,  fpr, threshold = sub_stats.precision.values, sub_stats.recall.values, sub_stats.fpr.values, sub_stats.predict.values \n",
    "    \n",
    "    #YFG suggestion - for the case when Truth == Prediction\n",
    "    # REF - https://github.com/Sage-Bionetworks/DARPA_Challenge/blob/master/challenge_config.py#L162\n",
    "    #PR curve AUC (Fixes error when prediction == truth)\n",
    "    #recall_new=list(recall)\n",
    "    #precision_new=list(precision)\n",
    "    #recall_new.reverse()\n",
    "    #recall_new.append(0)\n",
    "    #recall_new.reverse()\n",
    "    #precision_new.reverse()\n",
    "    #precision_new.append(precision_new[len(precision_new)-1])\n",
    "    #precision_new.reverse()\n",
    "    \n",
    "    ### Implementing the change using numpy style  // Abhishek Pratap - 08/31/2016\n",
    "    recall_mod = np.insert(recall,0,0)  ## adding 0 at the beginning\n",
    "    precision_mod = np.insert(precision,0,precision[0]) ## adding corresponding value at the beginning \n",
    "    fpr_mod = np.insert(fpr,0,fpr[0]) ## adding corresponding value at the beginning \n",
    "\n",
    "    return(precision_mod, recall_mod, fpr_mod, threshold)\n",
    "\n",
    "\n",
    "def __nonlinear_interpolated_evalStats(block_df, blockWise_stats):\n",
    "    \"\"\"\n",
    "    //needs to be updated\n",
    "    \"\"\"\n",
    "    \n",
    "    blockValue = block_df.predict.unique()\n",
    "    if len(blockValue) != 1:\n",
    "        raise Exception(\"grouping by predict column doesnt yield unique predict vals per group..WIERD\")\n",
    "    blockValue = blockValue[0]\n",
    "    blockStats = blockWise_stats[blockWise_stats.blockValue == blockValue].squeeze() #squeeze will convert one row df to series\n",
    "    \n",
    "    block_precision = []\n",
    "    block_recall = []\n",
    "    block_fpr = []\n",
    "    test_FP = []\n",
    "    test_TP = []\n",
    "    total_elements = blockWise_stats.cum_numElements.max()\n",
    "    total_truePos = blockWise_stats.cum_truePos.max()\n",
    "    total_trueNeg = total_elements - total_truePos\n",
    "    for block_depth,row in enumerate(block_df.iterrows()):\n",
    "        block_depth += 1  #increase block depth by 1 \n",
    "        #calculate the cumulative true positives seen till the last block from the current active block\n",
    "        # and the total number of elements(cumulative) seen till the last block\n",
    "        if blockStats.block == 1: #no previous obviously\n",
    "            cum_truePos_till_lastBlock = 0\n",
    "            cum_numElements_till_lastBlock = 0\n",
    "            cum_trueNeg_till_lastBlock = 0\n",
    "        elif blockStats.block > 1:\n",
    "            last_blockStats = blockWise_stats[blockWise_stats.block == (blockStats.block-1)].squeeze()\n",
    "            cum_truePos_till_lastBlock = last_blockStats['cum_truePos']\n",
    "            cum_numElements_till_lastBlock = last_blockStats['cum_numElements']\n",
    "            cum_trueNeg_till_lastBlock = cum_numElements_till_lastBlock - cum_truePos_till_lastBlock\n",
    "            \n",
    "        truePos = cum_truePos_till_lastBlock + (blockStats.block_truePos_density*block_depth)\n",
    "        falsePos = cum_trueNeg_till_lastBlock + ((1 - blockStats.block_truePos_density ) * block_depth)\n",
    "        test_FP.append(falsePos)\n",
    "        test_TP.append(truePos)\n",
    "        #precision\n",
    "        interpolated_precision = truePos / float((cum_numElements_till_lastBlock+block_depth))\n",
    "        block_precision.append(interpolated_precision)\n",
    "        #recall == true positive rate\n",
    "        interpolated_recall = truePos / float(total_truePos)\n",
    "        block_recall.append(interpolated_recall)\n",
    "        #fpr == false positive rate\n",
    "        interpolated_fpr = falsePos / float(total_trueNeg)\n",
    "        block_fpr.append(interpolated_fpr)\n",
    "        \n",
    "    block_df['precision'] = block_precision\n",
    "    block_df['recall'] = block_recall\n",
    "    block_df['fpr'] = block_fpr\n",
    "    block_df['block_depth'] = np.arange(1,block_df.shape[0]+1)\n",
    "    block_df['block'] = blockStats.block\n",
    "    return(block_df)"
   ]
  },
  {
   "cell_type": "code",
   "execution_count": 8,
   "metadata": {
    "collapsed": true
   },
   "outputs": [],
   "source": [
    "def __temp_plot(df):\n",
    "    \n",
    "    fpr1, tpr1, threshold1 = roc_curve(df.true_class, df.belief_gen)\n",
    "    frp1 = sorted(fpr1)\n",
    "    precision1, recall1, thresholds  = precision_recall_curve(df.true_class, df.belief_gen)\n",
    "    print 'linear interpolation (AUC: %0.3f)' % auc(recall1,precision1, reorder=True)\n",
    "\n",
    "    precision2, recall2, fpr2, threshold2= get_precision_recall_fpr(df.belief_gen, df.true_class)\n",
    "    print 'Non-linear interpolation (AUC: %0.3f)' % auc(recall2,precision2, reorder=True)\n",
    "\n",
    "    plt.clf()\n",
    "    fig = plt.figure(figsize=(8,6))\n",
    "    fig.subplots_adjust(hspace=.5)\n",
    "    ax1 = fig.add_subplot(211)\n",
    "    ax1.plot(recall1, precision1, label='linear (AUC: %0.3f)' % auc(recall1,precision1, reorder=True) )\n",
    "    ax1.plot(recall2, precision2, label='Non linear (AUC: %0.3f)' % auc(recall2,precision2, reorder=True) )\n",
    "    ax1.set_xlabel('Recall')\n",
    "    ax1.set_ylabel('Precision')\n",
    "    ax1.set_ylim([0.0, 1.2])\n",
    "    ax1.set_xlim([0.0, 1.2])\n",
    "    ax1.set_title('Precision-Recall')\n",
    "    ax1.legend(loc=\"upper right\",fontsize='small' )\n",
    "\n",
    "    ax2 = fig.add_subplot(212)\n",
    "    ax2.plot(fpr1,tpr1, label='linear (AUC: %0.3f)' % auc(fpr1,tpr1, reorder=True) )\n",
    "    ax2.plot(fpr2, recall2, label='Non linear (AUC: %0.3f)' % auc(fpr2,recall2, reorder=True) )\n",
    "    ax2.plot(np.arange(0,1.1,.1), np.arange(0,1.1,.1),'--', label='TPR=FPR')\n",
    "    ax2.set_xlabel('FPR')\n",
    "    ax2.set_ylabel('TPR')\n",
    "    ax2.set_ylim([0.0, 1.2])\n",
    "    ax2.set_xlim([0.0, 1.2])\n",
    "    ax2.set_title('ROC')\n",
    "    ax2.legend(loc=\"lower right\",fontsize='small' )\n",
    "    plt.show()\n"
   ]
  },
  {
   "cell_type": "markdown",
   "metadata": {},
   "source": [
    "## Examples"
   ]
  },
  {
   "cell_type": "markdown",
   "metadata": {},
   "source": [
    "### 1 : single belief score"
   ]
  },
  {
   "cell_type": "code",
   "execution_count": 9,
   "metadata": {
    "collapsed": false
   },
   "outputs": [
    {
     "name": "stdout",
     "output_type": "stream",
     "text": [
      "linear interpolation (AUC: 0.613)\n",
      "Non-linear interpolation (AUC: 0.225)\n"
     ]
    },
    {
     "data": {
      "text/plain": [
       "<matplotlib.figure.Figure at 0x116c901d0>"
      ]
     },
     "metadata": {},
     "output_type": "display_data"
    },
    {
     "data": {
      "image/png": "[encoded data removed]",
      "text/plain": [
       "<matplotlib.figure.Figure at 0x116cf94d0>"
      ]
     },
     "metadata": {},
     "output_type": "display_data"
    }
   ],
   "source": [
    "sub = syn.getSubmission(2363293)\n",
    "df = pandas.DataFrame.from_csv(sub.filePath).reset_index()\n",
    "df = df.merge(truth_df[['true_class','ID', 'Response']], left_on=\"ID\", right_on=\"ID\", how=\"outer\")\n",
    "__temp_plot(df)"
   ]
  },
  {
   "cell_type": "markdown",
   "metadata": {},
   "source": [
    "### Example 2 : binary predictions"
   ]
  },
  {
   "cell_type": "code",
   "execution_count": 10,
   "metadata": {
    "collapsed": false
   },
   "outputs": [
    {
     "name": "stdout",
     "output_type": "stream",
     "text": [
      "linear interpolation (AUC: 0.457)\n",
      "Non-linear interpolation (AUC: 0.275)\n"
     ]
    },
    {
     "data": {
      "text/plain": [
       "<matplotlib.figure.Figure at 0x104237210>"
      ]
     },
     "metadata": {},
     "output_type": "display_data"
    },
    {
     "data": {
      "image/png": "[encoded data removed]",
      "text/plain": [
       "<matplotlib.figure.Figure at 0x11af56ad0>"
      ]
     },
     "metadata": {},
     "output_type": "display_data"
    }
   ],
   "source": [
    "sub = syn.getSubmission(2363303)\n",
    "df = pandas.DataFrame.from_csv(sub.filePath).reset_index()\n",
    "df = df.merge(truth_df[['true_class','ID', 'Response']], left_on=\"ID\", right_on=\"ID\", how=\"outer\")\n",
    "__temp_plot(df)"
   ]
  },
  {
   "cell_type": "markdown",
   "metadata": {},
   "source": [
    "### Example 3 : less skewed scores"
   ]
  },
  {
   "cell_type": "code",
   "execution_count": 11,
   "metadata": {
    "collapsed": false
   },
   "outputs": [
    {
     "name": "stdout",
     "output_type": "stream",
     "text": [
      "linear interpolation (AUC: 0.261)\n",
      "Non-linear interpolation (AUC: 0.258)\n"
     ]
    },
    {
     "data": {
      "text/plain": [
       "<matplotlib.figure.Figure at 0x103db3a10>"
      ]
     },
     "metadata": {},
     "output_type": "display_data"
    },
    {
     "data": {
      "image/png": "[encoded data removed]",
      "text/plain": [
       "<matplotlib.figure.Figure at 0x11b13ed10>"
      ]
     },
     "metadata": {},
     "output_type": "display_data"
    }
   ],
   "source": [
    "sub = syn.getSubmission(2364533)\n",
    "df = pandas.DataFrame.from_csv(sub.filePath).reset_index()\n",
    "df = df.merge(truth_df[['true_class','ID', 'Response']], left_on=\"ID\", right_on=\"ID\", how=\"outer\")\n",
    "#print df.belief_gen.value_counts()\n",
    "__temp_plot(df)"
   ]
  },
  {
   "cell_type": "markdown",
   "metadata": {},
   "source": [
    "### Example 4 : 670 uniq scores"
   ]
  },
  {
   "cell_type": "code",
   "execution_count": 12,
   "metadata": {
    "collapsed": false
   },
   "outputs": [
    {
     "name": "stdout",
     "output_type": "stream",
     "text": [
      "linear interpolation (AUC: 0.381)\n",
      "Non-linear interpolation (AUC: 0.381)\n"
     ]
    },
    {
     "data": {
      "text/plain": [
       "<matplotlib.figure.Figure at 0x103117f50>"
      ]
     },
     "metadata": {},
     "output_type": "display_data"
    },
    {
     "data": {
      "image/png": "[encoded data removed]",
      "text/plain": [
       "<matplotlib.figure.Figure at 0x116cbd650>"
      ]
     },
     "metadata": {},
     "output_type": "display_data"
    }
   ],
   "source": [
    "sub = syn.getSubmission(2368533)\n",
    "df = pandas.DataFrame.from_csv(sub.filePath).reset_index()\n",
    "df = df.merge(truth_df[['true_class','ID', 'Response']], left_on=\"ID\", right_on=\"ID\", how=\"outer\")\n",
    "__temp_plot(df)"
   ]
  },
  {
   "cell_type": "markdown",
   "metadata": {},
   "source": [
    "### Testing --  When truth == prediction (May 9, 2016)\n",
    "\n",
    "reported case by Tom  "
   ]
  },
  {
   "cell_type": "code",
   "execution_count": 13,
   "metadata": {
    "collapsed": true
   },
   "outputs": [],
   "source": [
    "y_predict = np.concatenate([np.repeat(1,25), np.repeat(0,30)])\n",
    "y_true = y_predict"
   ]
  },
  {
   "cell_type": "code",
   "execution_count": 14,
   "metadata": {
    "collapsed": false
   },
   "outputs": [
    {
     "name": "stdout",
     "output_type": "stream",
     "text": [
      "linear interpolation (AUC: 1.000)\n",
      "Non-linear interpolation (AUC: 0.989)\n"
     ]
    },
    {
     "data": {
      "text/plain": [
       "<matplotlib.figure.Figure at 0x11b0f59d0>"
      ]
     },
     "metadata": {},
     "output_type": "display_data"
    },
    {
     "data": {
      "image/png": "[encoded data removed]",
      "text/plain": [
       "<matplotlib.figure.Figure at 0x11b15de50>"
      ]
     },
     "metadata": {},
     "output_type": "display_data"
    }
   ],
   "source": [
    "df = pandas.DataFrame.from_dict({'true_class':y_true, 'belief_gen':y_predict})\n",
    "__temp_plot(df)"
   ]
  },
  {
   "cell_type": "markdown",
   "metadata": {
    "collapsed": false
   },
   "source": [
    "### Manually "
   ]
  },
  {
   "cell_type": "code",
   "execution_count": 15,
   "metadata": {
    "collapsed": false
   },
   "outputs": [
    {
     "name": "stdout",
     "output_type": "stream",
     "text": [
      "Linear interpolation (AUC: 1.000)\n",
      "Non-linear interpolation (AUC: 0.989)\n"
     ]
    }
   ],
   "source": [
    "precision1, recall1, fpr1 = precision_recall_curve(y_predict, y_true)\n",
    "print 'Linear interpolation (AUC: %0.3f)' % auc(recall1,precision1, reorder=True)\n",
    "\n",
    "precision2, recall2, fpr2, threshold2 = get_precision_recall_fpr(y_predict, y_true)\n",
    "print 'Non-linear interpolation (AUC: %0.3f)' % auc(recall2,precision2, reorder=True)"
   ]
  },
  {
   "cell_type": "code",
   "execution_count": 16,
   "metadata": {
    "collapsed": false
   },
   "outputs": [],
   "source": [
    "sub_stats = pandas.DataFrame.from_dict({'predict':y_predict, 'truth':y_true}, dtype='float64')\n",
    "sub_stats = sub_stats.sort_values(by=['predict'],ascending=False)\n",
    "blockWise_stats = __get_blockWise_stats(sub_stats)\n",
    "grouped = sub_stats.groupby(['predict'],sort=False)"
   ]
  },
  {
   "cell_type": "code",
   "execution_count": 17,
   "metadata": {
    "collapsed": false
   },
   "outputs": [
    {
     "data": {
      "text/html": [
       "<div>\n",
       "<table border=\"1\" class=\"dataframe\">\n",
       "  <thead>\n",
       "    <tr style=\"text-align: right;\">\n",
       "      <th></th>\n",
       "      <th>block</th>\n",
       "      <th>blockValue</th>\n",
       "      <th>block_numElements</th>\n",
       "      <th>block_truePos</th>\n",
       "      <th>block_truePos_density</th>\n",
       "      <th>cum_numElements</th>\n",
       "      <th>cum_truePos</th>\n",
       "    </tr>\n",
       "  </thead>\n",
       "  <tbody>\n",
       "    <tr>\n",
       "      <th>0</th>\n",
       "      <td>1</td>\n",
       "      <td>1.0</td>\n",
       "      <td>25.0</td>\n",
       "      <td>25.0</td>\n",
       "      <td>1.0</td>\n",
       "      <td>25.0</td>\n",
       "      <td>25.0</td>\n",
       "    </tr>\n",
       "    <tr>\n",
       "      <th>1</th>\n",
       "      <td>2</td>\n",
       "      <td>0.0</td>\n",
       "      <td>30.0</td>\n",
       "      <td>0.0</td>\n",
       "      <td>0.0</td>\n",
       "      <td>55.0</td>\n",
       "      <td>25.0</td>\n",
       "    </tr>\n",
       "  </tbody>\n",
       "</table>\n",
       "</div>"
      ],
      "text/plain": [
       "   block  blockValue  block_numElements  block_truePos  block_truePos_density  \\\n",
       "0      1         1.0               25.0           25.0                    1.0   \n",
       "1      2         0.0               30.0            0.0                    0.0   \n",
       "\n",
       "   cum_numElements  cum_truePos  \n",
       "0             25.0         25.0  \n",
       "1             55.0         25.0  "
      ]
     },
     "execution_count": 17,
     "metadata": {},
     "output_type": "execute_result"
    }
   ],
   "source": [
    "blockWise_stats"
   ]
  },
  {
   "cell_type": "code",
   "execution_count": 18,
   "metadata": {
    "collapsed": false
   },
   "outputs": [
    {
     "data": {
      "text/html": [
       "<div>\n",
       "<table border=\"1\" class=\"dataframe\">\n",
       "  <thead>\n",
       "    <tr style=\"text-align: right;\">\n",
       "      <th></th>\n",
       "      <th>predict</th>\n",
       "      <th>truth</th>\n",
       "      <th>precision</th>\n",
       "      <th>recall</th>\n",
       "      <th>fpr</th>\n",
       "      <th>block_depth</th>\n",
       "      <th>block</th>\n",
       "    </tr>\n",
       "  </thead>\n",
       "  <tbody>\n",
       "    <tr>\n",
       "      <th>0</th>\n",
       "      <td>1.0</td>\n",
       "      <td>1.0</td>\n",
       "      <td>1.000000</td>\n",
       "      <td>0.04</td>\n",
       "      <td>0.000000</td>\n",
       "      <td>1</td>\n",
       "      <td>1.0</td>\n",
       "    </tr>\n",
       "    <tr>\n",
       "      <th>13</th>\n",
       "      <td>1.0</td>\n",
       "      <td>1.0</td>\n",
       "      <td>1.000000</td>\n",
       "      <td>0.08</td>\n",
       "      <td>0.000000</td>\n",
       "      <td>2</td>\n",
       "      <td>1.0</td>\n",
       "    </tr>\n",
       "    <tr>\n",
       "      <th>1</th>\n",
       "      <td>1.0</td>\n",
       "      <td>1.0</td>\n",
       "      <td>1.000000</td>\n",
       "      <td>0.12</td>\n",
       "      <td>0.000000</td>\n",
       "      <td>3</td>\n",
       "      <td>1.0</td>\n",
       "    </tr>\n",
       "    <tr>\n",
       "      <th>24</th>\n",
       "      <td>1.0</td>\n",
       "      <td>1.0</td>\n",
       "      <td>1.000000</td>\n",
       "      <td>0.16</td>\n",
       "      <td>0.000000</td>\n",
       "      <td>4</td>\n",
       "      <td>1.0</td>\n",
       "    </tr>\n",
       "    <tr>\n",
       "      <th>23</th>\n",
       "      <td>1.0</td>\n",
       "      <td>1.0</td>\n",
       "      <td>1.000000</td>\n",
       "      <td>0.20</td>\n",
       "      <td>0.000000</td>\n",
       "      <td>5</td>\n",
       "      <td>1.0</td>\n",
       "    </tr>\n",
       "    <tr>\n",
       "      <th>22</th>\n",
       "      <td>1.0</td>\n",
       "      <td>1.0</td>\n",
       "      <td>1.000000</td>\n",
       "      <td>0.24</td>\n",
       "      <td>0.000000</td>\n",
       "      <td>6</td>\n",
       "      <td>1.0</td>\n",
       "    </tr>\n",
       "    <tr>\n",
       "      <th>21</th>\n",
       "      <td>1.0</td>\n",
       "      <td>1.0</td>\n",
       "      <td>1.000000</td>\n",
       "      <td>0.28</td>\n",
       "      <td>0.000000</td>\n",
       "      <td>7</td>\n",
       "      <td>1.0</td>\n",
       "    </tr>\n",
       "    <tr>\n",
       "      <th>20</th>\n",
       "      <td>1.0</td>\n",
       "      <td>1.0</td>\n",
       "      <td>1.000000</td>\n",
       "      <td>0.32</td>\n",
       "      <td>0.000000</td>\n",
       "      <td>8</td>\n",
       "      <td>1.0</td>\n",
       "    </tr>\n",
       "    <tr>\n",
       "      <th>18</th>\n",
       "      <td>1.0</td>\n",
       "      <td>1.0</td>\n",
       "      <td>1.000000</td>\n",
       "      <td>0.36</td>\n",
       "      <td>0.000000</td>\n",
       "      <td>9</td>\n",
       "      <td>1.0</td>\n",
       "    </tr>\n",
       "    <tr>\n",
       "      <th>17</th>\n",
       "      <td>1.0</td>\n",
       "      <td>1.0</td>\n",
       "      <td>1.000000</td>\n",
       "      <td>0.40</td>\n",
       "      <td>0.000000</td>\n",
       "      <td>10</td>\n",
       "      <td>1.0</td>\n",
       "    </tr>\n",
       "    <tr>\n",
       "      <th>16</th>\n",
       "      <td>1.0</td>\n",
       "      <td>1.0</td>\n",
       "      <td>1.000000</td>\n",
       "      <td>0.44</td>\n",
       "      <td>0.000000</td>\n",
       "      <td>11</td>\n",
       "      <td>1.0</td>\n",
       "    </tr>\n",
       "    <tr>\n",
       "      <th>15</th>\n",
       "      <td>1.0</td>\n",
       "      <td>1.0</td>\n",
       "      <td>1.000000</td>\n",
       "      <td>0.48</td>\n",
       "      <td>0.000000</td>\n",
       "      <td>12</td>\n",
       "      <td>1.0</td>\n",
       "    </tr>\n",
       "    <tr>\n",
       "      <th>14</th>\n",
       "      <td>1.0</td>\n",
       "      <td>1.0</td>\n",
       "      <td>1.000000</td>\n",
       "      <td>0.52</td>\n",
       "      <td>0.000000</td>\n",
       "      <td>13</td>\n",
       "      <td>1.0</td>\n",
       "    </tr>\n",
       "    <tr>\n",
       "      <th>19</th>\n",
       "      <td>1.0</td>\n",
       "      <td>1.0</td>\n",
       "      <td>1.000000</td>\n",
       "      <td>0.56</td>\n",
       "      <td>0.000000</td>\n",
       "      <td>14</td>\n",
       "      <td>1.0</td>\n",
       "    </tr>\n",
       "    <tr>\n",
       "      <th>12</th>\n",
       "      <td>1.0</td>\n",
       "      <td>1.0</td>\n",
       "      <td>1.000000</td>\n",
       "      <td>0.60</td>\n",
       "      <td>0.000000</td>\n",
       "      <td>15</td>\n",
       "      <td>1.0</td>\n",
       "    </tr>\n",
       "    <tr>\n",
       "      <th>6</th>\n",
       "      <td>1.0</td>\n",
       "      <td>1.0</td>\n",
       "      <td>1.000000</td>\n",
       "      <td>0.64</td>\n",
       "      <td>0.000000</td>\n",
       "      <td>16</td>\n",
       "      <td>1.0</td>\n",
       "    </tr>\n",
       "    <tr>\n",
       "      <th>2</th>\n",
       "      <td>1.0</td>\n",
       "      <td>1.0</td>\n",
       "      <td>1.000000</td>\n",
       "      <td>0.68</td>\n",
       "      <td>0.000000</td>\n",
       "      <td>17</td>\n",
       "      <td>1.0</td>\n",
       "    </tr>\n",
       "    <tr>\n",
       "      <th>11</th>\n",
       "      <td>1.0</td>\n",
       "      <td>1.0</td>\n",
       "      <td>1.000000</td>\n",
       "      <td>0.72</td>\n",
       "      <td>0.000000</td>\n",
       "      <td>18</td>\n",
       "      <td>1.0</td>\n",
       "    </tr>\n",
       "    <tr>\n",
       "      <th>3</th>\n",
       "      <td>1.0</td>\n",
       "      <td>1.0</td>\n",
       "      <td>1.000000</td>\n",
       "      <td>0.76</td>\n",
       "      <td>0.000000</td>\n",
       "      <td>19</td>\n",
       "      <td>1.0</td>\n",
       "    </tr>\n",
       "    <tr>\n",
       "      <th>4</th>\n",
       "      <td>1.0</td>\n",
       "      <td>1.0</td>\n",
       "      <td>1.000000</td>\n",
       "      <td>0.80</td>\n",
       "      <td>0.000000</td>\n",
       "      <td>20</td>\n",
       "      <td>1.0</td>\n",
       "    </tr>\n",
       "    <tr>\n",
       "      <th>5</th>\n",
       "      <td>1.0</td>\n",
       "      <td>1.0</td>\n",
       "      <td>1.000000</td>\n",
       "      <td>0.84</td>\n",
       "      <td>0.000000</td>\n",
       "      <td>21</td>\n",
       "      <td>1.0</td>\n",
       "    </tr>\n",
       "    <tr>\n",
       "      <th>7</th>\n",
       "      <td>1.0</td>\n",
       "      <td>1.0</td>\n",
       "      <td>1.000000</td>\n",
       "      <td>0.88</td>\n",
       "      <td>0.000000</td>\n",
       "      <td>22</td>\n",
       "      <td>1.0</td>\n",
       "    </tr>\n",
       "    <tr>\n",
       "      <th>8</th>\n",
       "      <td>1.0</td>\n",
       "      <td>1.0</td>\n",
       "      <td>1.000000</td>\n",
       "      <td>0.92</td>\n",
       "      <td>0.000000</td>\n",
       "      <td>23</td>\n",
       "      <td>1.0</td>\n",
       "    </tr>\n",
       "    <tr>\n",
       "      <th>9</th>\n",
       "      <td>1.0</td>\n",
       "      <td>1.0</td>\n",
       "      <td>1.000000</td>\n",
       "      <td>0.96</td>\n",
       "      <td>0.000000</td>\n",
       "      <td>24</td>\n",
       "      <td>1.0</td>\n",
       "    </tr>\n",
       "    <tr>\n",
       "      <th>10</th>\n",
       "      <td>1.0</td>\n",
       "      <td>1.0</td>\n",
       "      <td>1.000000</td>\n",
       "      <td>1.00</td>\n",
       "      <td>0.000000</td>\n",
       "      <td>25</td>\n",
       "      <td>1.0</td>\n",
       "    </tr>\n",
       "    <tr>\n",
       "      <th>47</th>\n",
       "      <td>0.0</td>\n",
       "      <td>0.0</td>\n",
       "      <td>0.961538</td>\n",
       "      <td>1.00</td>\n",
       "      <td>0.033333</td>\n",
       "      <td>1</td>\n",
       "      <td>2.0</td>\n",
       "    </tr>\n",
       "    <tr>\n",
       "      <th>42</th>\n",
       "      <td>0.0</td>\n",
       "      <td>0.0</td>\n",
       "      <td>0.925926</td>\n",
       "      <td>1.00</td>\n",
       "      <td>0.066667</td>\n",
       "      <td>2</td>\n",
       "      <td>2.0</td>\n",
       "    </tr>\n",
       "    <tr>\n",
       "      <th>43</th>\n",
       "      <td>0.0</td>\n",
       "      <td>0.0</td>\n",
       "      <td>0.892857</td>\n",
       "      <td>1.00</td>\n",
       "      <td>0.100000</td>\n",
       "      <td>3</td>\n",
       "      <td>2.0</td>\n",
       "    </tr>\n",
       "    <tr>\n",
       "      <th>44</th>\n",
       "      <td>0.0</td>\n",
       "      <td>0.0</td>\n",
       "      <td>0.862069</td>\n",
       "      <td>1.00</td>\n",
       "      <td>0.133333</td>\n",
       "      <td>4</td>\n",
       "      <td>2.0</td>\n",
       "    </tr>\n",
       "    <tr>\n",
       "      <th>45</th>\n",
       "      <td>0.0</td>\n",
       "      <td>0.0</td>\n",
       "      <td>0.833333</td>\n",
       "      <td>1.00</td>\n",
       "      <td>0.166667</td>\n",
       "      <td>5</td>\n",
       "      <td>2.0</td>\n",
       "    </tr>\n",
       "    <tr>\n",
       "      <th>46</th>\n",
       "      <td>0.0</td>\n",
       "      <td>0.0</td>\n",
       "      <td>0.806452</td>\n",
       "      <td>1.00</td>\n",
       "      <td>0.200000</td>\n",
       "      <td>6</td>\n",
       "      <td>2.0</td>\n",
       "    </tr>\n",
       "    <tr>\n",
       "      <th>52</th>\n",
       "      <td>0.0</td>\n",
       "      <td>0.0</td>\n",
       "      <td>0.781250</td>\n",
       "      <td>1.00</td>\n",
       "      <td>0.233333</td>\n",
       "      <td>7</td>\n",
       "      <td>2.0</td>\n",
       "    </tr>\n",
       "    <tr>\n",
       "      <th>48</th>\n",
       "      <td>0.0</td>\n",
       "      <td>0.0</td>\n",
       "      <td>0.757576</td>\n",
       "      <td>1.00</td>\n",
       "      <td>0.266667</td>\n",
       "      <td>8</td>\n",
       "      <td>2.0</td>\n",
       "    </tr>\n",
       "    <tr>\n",
       "      <th>49</th>\n",
       "      <td>0.0</td>\n",
       "      <td>0.0</td>\n",
       "      <td>0.735294</td>\n",
       "      <td>1.00</td>\n",
       "      <td>0.300000</td>\n",
       "      <td>9</td>\n",
       "      <td>2.0</td>\n",
       "    </tr>\n",
       "    <tr>\n",
       "      <th>50</th>\n",
       "      <td>0.0</td>\n",
       "      <td>0.0</td>\n",
       "      <td>0.714286</td>\n",
       "      <td>1.00</td>\n",
       "      <td>0.333333</td>\n",
       "      <td>10</td>\n",
       "      <td>2.0</td>\n",
       "    </tr>\n",
       "    <tr>\n",
       "      <th>51</th>\n",
       "      <td>0.0</td>\n",
       "      <td>0.0</td>\n",
       "      <td>0.694444</td>\n",
       "      <td>1.00</td>\n",
       "      <td>0.366667</td>\n",
       "      <td>11</td>\n",
       "      <td>2.0</td>\n",
       "    </tr>\n",
       "    <tr>\n",
       "      <th>53</th>\n",
       "      <td>0.0</td>\n",
       "      <td>0.0</td>\n",
       "      <td>0.675676</td>\n",
       "      <td>1.00</td>\n",
       "      <td>0.400000</td>\n",
       "      <td>12</td>\n",
       "      <td>2.0</td>\n",
       "    </tr>\n",
       "    <tr>\n",
       "      <th>40</th>\n",
       "      <td>0.0</td>\n",
       "      <td>0.0</td>\n",
       "      <td>0.657895</td>\n",
       "      <td>1.00</td>\n",
       "      <td>0.433333</td>\n",
       "      <td>13</td>\n",
       "      <td>2.0</td>\n",
       "    </tr>\n",
       "    <tr>\n",
       "      <th>41</th>\n",
       "      <td>0.0</td>\n",
       "      <td>0.0</td>\n",
       "      <td>0.641026</td>\n",
       "      <td>1.00</td>\n",
       "      <td>0.466667</td>\n",
       "      <td>14</td>\n",
       "      <td>2.0</td>\n",
       "    </tr>\n",
       "    <tr>\n",
       "      <th>27</th>\n",
       "      <td>0.0</td>\n",
       "      <td>0.0</td>\n",
       "      <td>0.625000</td>\n",
       "      <td>1.00</td>\n",
       "      <td>0.500000</td>\n",
       "      <td>15</td>\n",
       "      <td>2.0</td>\n",
       "    </tr>\n",
       "    <tr>\n",
       "      <th>39</th>\n",
       "      <td>0.0</td>\n",
       "      <td>0.0</td>\n",
       "      <td>0.609756</td>\n",
       "      <td>1.00</td>\n",
       "      <td>0.533333</td>\n",
       "      <td>16</td>\n",
       "      <td>2.0</td>\n",
       "    </tr>\n",
       "    <tr>\n",
       "      <th>38</th>\n",
       "      <td>0.0</td>\n",
       "      <td>0.0</td>\n",
       "      <td>0.595238</td>\n",
       "      <td>1.00</td>\n",
       "      <td>0.566667</td>\n",
       "      <td>17</td>\n",
       "      <td>2.0</td>\n",
       "    </tr>\n",
       "    <tr>\n",
       "      <th>37</th>\n",
       "      <td>0.0</td>\n",
       "      <td>0.0</td>\n",
       "      <td>0.581395</td>\n",
       "      <td>1.00</td>\n",
       "      <td>0.600000</td>\n",
       "      <td>18</td>\n",
       "      <td>2.0</td>\n",
       "    </tr>\n",
       "    <tr>\n",
       "      <th>36</th>\n",
       "      <td>0.0</td>\n",
       "      <td>0.0</td>\n",
       "      <td>0.568182</td>\n",
       "      <td>1.00</td>\n",
       "      <td>0.633333</td>\n",
       "      <td>19</td>\n",
       "      <td>2.0</td>\n",
       "    </tr>\n",
       "    <tr>\n",
       "      <th>35</th>\n",
       "      <td>0.0</td>\n",
       "      <td>0.0</td>\n",
       "      <td>0.555556</td>\n",
       "      <td>1.00</td>\n",
       "      <td>0.666667</td>\n",
       "      <td>20</td>\n",
       "      <td>2.0</td>\n",
       "    </tr>\n",
       "    <tr>\n",
       "      <th>34</th>\n",
       "      <td>0.0</td>\n",
       "      <td>0.0</td>\n",
       "      <td>0.543478</td>\n",
       "      <td>1.00</td>\n",
       "      <td>0.700000</td>\n",
       "      <td>21</td>\n",
       "      <td>2.0</td>\n",
       "    </tr>\n",
       "    <tr>\n",
       "      <th>33</th>\n",
       "      <td>0.0</td>\n",
       "      <td>0.0</td>\n",
       "      <td>0.531915</td>\n",
       "      <td>1.00</td>\n",
       "      <td>0.733333</td>\n",
       "      <td>22</td>\n",
       "      <td>2.0</td>\n",
       "    </tr>\n",
       "    <tr>\n",
       "      <th>32</th>\n",
       "      <td>0.0</td>\n",
       "      <td>0.0</td>\n",
       "      <td>0.520833</td>\n",
       "      <td>1.00</td>\n",
       "      <td>0.766667</td>\n",
       "      <td>23</td>\n",
       "      <td>2.0</td>\n",
       "    </tr>\n",
       "    <tr>\n",
       "      <th>31</th>\n",
       "      <td>0.0</td>\n",
       "      <td>0.0</td>\n",
       "      <td>0.510204</td>\n",
       "      <td>1.00</td>\n",
       "      <td>0.800000</td>\n",
       "      <td>24</td>\n",
       "      <td>2.0</td>\n",
       "    </tr>\n",
       "    <tr>\n",
       "      <th>30</th>\n",
       "      <td>0.0</td>\n",
       "      <td>0.0</td>\n",
       "      <td>0.500000</td>\n",
       "      <td>1.00</td>\n",
       "      <td>0.833333</td>\n",
       "      <td>25</td>\n",
       "      <td>2.0</td>\n",
       "    </tr>\n",
       "    <tr>\n",
       "      <th>29</th>\n",
       "      <td>0.0</td>\n",
       "      <td>0.0</td>\n",
       "      <td>0.490196</td>\n",
       "      <td>1.00</td>\n",
       "      <td>0.866667</td>\n",
       "      <td>26</td>\n",
       "      <td>2.0</td>\n",
       "    </tr>\n",
       "    <tr>\n",
       "      <th>28</th>\n",
       "      <td>0.0</td>\n",
       "      <td>0.0</td>\n",
       "      <td>0.480769</td>\n",
       "      <td>1.00</td>\n",
       "      <td>0.900000</td>\n",
       "      <td>27</td>\n",
       "      <td>2.0</td>\n",
       "    </tr>\n",
       "    <tr>\n",
       "      <th>26</th>\n",
       "      <td>0.0</td>\n",
       "      <td>0.0</td>\n",
       "      <td>0.471698</td>\n",
       "      <td>1.00</td>\n",
       "      <td>0.933333</td>\n",
       "      <td>28</td>\n",
       "      <td>2.0</td>\n",
       "    </tr>\n",
       "    <tr>\n",
       "      <th>25</th>\n",
       "      <td>0.0</td>\n",
       "      <td>0.0</td>\n",
       "      <td>0.462963</td>\n",
       "      <td>1.00</td>\n",
       "      <td>0.966667</td>\n",
       "      <td>29</td>\n",
       "      <td>2.0</td>\n",
       "    </tr>\n",
       "    <tr>\n",
       "      <th>54</th>\n",
       "      <td>0.0</td>\n",
       "      <td>0.0</td>\n",
       "      <td>0.454545</td>\n",
       "      <td>1.00</td>\n",
       "      <td>1.000000</td>\n",
       "      <td>30</td>\n",
       "      <td>2.0</td>\n",
       "    </tr>\n",
       "  </tbody>\n",
       "</table>\n",
       "</div>"
      ],
      "text/plain": [
       "    predict  truth  precision  recall       fpr  block_depth  block\n",
       "0       1.0    1.0   1.000000    0.04  0.000000            1    1.0\n",
       "13      1.0    1.0   1.000000    0.08  0.000000            2    1.0\n",
       "1       1.0    1.0   1.000000    0.12  0.000000            3    1.0\n",
       "24      1.0    1.0   1.000000    0.16  0.000000            4    1.0\n",
       "23      1.0    1.0   1.000000    0.20  0.000000            5    1.0\n",
       "22      1.0    1.0   1.000000    0.24  0.000000            6    1.0\n",
       "21      1.0    1.0   1.000000    0.28  0.000000            7    1.0\n",
       "20      1.0    1.0   1.000000    0.32  0.000000            8    1.0\n",
       "18      1.0    1.0   1.000000    0.36  0.000000            9    1.0\n",
       "17      1.0    1.0   1.000000    0.40  0.000000           10    1.0\n",
       "16      1.0    1.0   1.000000    0.44  0.000000           11    1.0\n",
       "15      1.0    1.0   1.000000    0.48  0.000000           12    1.0\n",
       "14      1.0    1.0   1.000000    0.52  0.000000           13    1.0\n",
       "19      1.0    1.0   1.000000    0.56  0.000000           14    1.0\n",
       "12      1.0    1.0   1.000000    0.60  0.000000           15    1.0\n",
       "6       1.0    1.0   1.000000    0.64  0.000000           16    1.0\n",
       "2       1.0    1.0   1.000000    0.68  0.000000           17    1.0\n",
       "11      1.0    1.0   1.000000    0.72  0.000000           18    1.0\n",
       "3       1.0    1.0   1.000000    0.76  0.000000           19    1.0\n",
       "4       1.0    1.0   1.000000    0.80  0.000000           20    1.0\n",
       "5       1.0    1.0   1.000000    0.84  0.000000           21    1.0\n",
       "7       1.0    1.0   1.000000    0.88  0.000000           22    1.0\n",
       "8       1.0    1.0   1.000000    0.92  0.000000           23    1.0\n",
       "9       1.0    1.0   1.000000    0.96  0.000000           24    1.0\n",
       "10      1.0    1.0   1.000000    1.00  0.000000           25    1.0\n",
       "47      0.0    0.0   0.961538    1.00  0.033333            1    2.0\n",
       "42      0.0    0.0   0.925926    1.00  0.066667            2    2.0\n",
       "43      0.0    0.0   0.892857    1.00  0.100000            3    2.0\n",
       "44      0.0    0.0   0.862069    1.00  0.133333            4    2.0\n",
       "45      0.0    0.0   0.833333    1.00  0.166667            5    2.0\n",
       "46      0.0    0.0   0.806452    1.00  0.200000            6    2.0\n",
       "52      0.0    0.0   0.781250    1.00  0.233333            7    2.0\n",
       "48      0.0    0.0   0.757576    1.00  0.266667            8    2.0\n",
       "49      0.0    0.0   0.735294    1.00  0.300000            9    2.0\n",
       "50      0.0    0.0   0.714286    1.00  0.333333           10    2.0\n",
       "51      0.0    0.0   0.694444    1.00  0.366667           11    2.0\n",
       "53      0.0    0.0   0.675676    1.00  0.400000           12    2.0\n",
       "40      0.0    0.0   0.657895    1.00  0.433333           13    2.0\n",
       "41      0.0    0.0   0.641026    1.00  0.466667           14    2.0\n",
       "27      0.0    0.0   0.625000    1.00  0.500000           15    2.0\n",
       "39      0.0    0.0   0.609756    1.00  0.533333           16    2.0\n",
       "38      0.0    0.0   0.595238    1.00  0.566667           17    2.0\n",
       "37      0.0    0.0   0.581395    1.00  0.600000           18    2.0\n",
       "36      0.0    0.0   0.568182    1.00  0.633333           19    2.0\n",
       "35      0.0    0.0   0.555556    1.00  0.666667           20    2.0\n",
       "34      0.0    0.0   0.543478    1.00  0.700000           21    2.0\n",
       "33      0.0    0.0   0.531915    1.00  0.733333           22    2.0\n",
       "32      0.0    0.0   0.520833    1.00  0.766667           23    2.0\n",
       "31      0.0    0.0   0.510204    1.00  0.800000           24    2.0\n",
       "30      0.0    0.0   0.500000    1.00  0.833333           25    2.0\n",
       "29      0.0    0.0   0.490196    1.00  0.866667           26    2.0\n",
       "28      0.0    0.0   0.480769    1.00  0.900000           27    2.0\n",
       "26      0.0    0.0   0.471698    1.00  0.933333           28    2.0\n",
       "25      0.0    0.0   0.462963    1.00  0.966667           29    2.0\n",
       "54      0.0    0.0   0.454545    1.00  1.000000           30    2.0"
      ]
     },
     "execution_count": 18,
     "metadata": {},
     "output_type": "execute_result"
    }
   ],
   "source": [
    "sub_stats = grouped.apply(__nonlinear_interpolated_evalStats,blockWise_stats)\n",
    "sub_stats"
   ]
  },
  {
   "cell_type": "code",
   "execution_count": null,
   "metadata": {
    "collapsed": true
   },
   "outputs": [],
   "source": []
  }
 ],
 "metadata": {
  "kernelspec": {
   "display_name": "Python 2",
   "language": "python",
   "name": "python2"
  },
  "language_info": {
   "codemirror_mode": {
    "name": "ipython",
    "version": 2
   },
   "file_extension": ".py",
   "mimetype": "text/x-python",
   "name": "python",
   "nbconvert_exporter": "python",
   "pygments_lexer": "ipython2",
   "version": "2.7.11"
  }
 },
 "nbformat": 4,
 "nbformat_minor": 0
}
