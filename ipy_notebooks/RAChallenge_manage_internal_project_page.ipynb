{
 "metadata": {
  "name": ""
 },
 "nbformat": 3,
 "nbformat_minor": 0,
 "worksheets": [
  {
   "cells": [
    {
     "cell_type": "code",
     "collapsed": false,
     "input": [
      "import synapseclient\n",
      "import os\n",
      "import sys\n",
      "import yaml\n",
      "import pandas\n",
      "import matplotlib.pyplot as plt\n",
      "\n",
      "#adding the lib path\n",
      "sys.path.append('/Users/abhishek/dev/appys/lib/')\n",
      "\n",
      "#internal modules\n",
      "import utils"
     ],
     "language": "python",
     "metadata": {},
     "outputs": [],
     "prompt_number": 1
    },
    {
     "cell_type": "code",
     "collapsed": false,
     "input": [
      "#login \n",
      "syn = synapseclient.login()"
     ],
     "language": "python",
     "metadata": {},
     "outputs": [
      {
       "output_type": "stream",
       "stream": "stdout",
       "text": [
        "Welcome, Abhishek Pratap!\n"
       ]
      }
     ],
     "prompt_number": 2
    },
    {
     "cell_type": "markdown",
     "metadata": {},
     "source": [
      "##RA Syn internal Proj Management"
     ]
    },
    {
     "cell_type": "code",
     "collapsed": false,
     "input": [
      "#SYN IDS\n",
      "RNA_SEQ_DATA = 'syn2280648'"
     ],
     "language": "python",
     "metadata": {},
     "outputs": [],
     "prompt_number": 3
    },
    {
     "cell_type": "code",
     "collapsed": false,
     "input": [
      "#get the list of bam files for the project\n",
      "rnaSeq_details_file = '/Volumes/work/DAT_115__RA_Challenge/Documents/RNA_Seq_Data_generation.rtf'\n",
      "bam_local_dir = '/Volumes/work/DAT_115__RA_Challenge/Data/'\n",
      "bams = utils.get_FilesList(bam_local_dir,pattern='*.bam')  "
     ],
     "language": "python",
     "metadata": {},
     "outputs": [
      {
       "output_type": "stream",
       "stream": "stdout",
       "text": [
        "[get_FilesList]: Found 0 files at /Volumes/work/DAT_115__RA_Challenge/Data/\n"
       ]
      }
     ],
     "prompt_number": 6
    },
    {
     "cell_type": "code",
     "collapsed": false,
     "input": [
      "##push bams as links to synapse\n",
      "syn_rnaSeq_details= syn.store(synapseclient.File(rnaSeq_details_file,name='RNA Seq Data Generation', parent=RNA_SEQ_DATA)\n",
      "                              ,forceVersion=False) \n",
      "for count,bam in enumerate(bams):\n",
      "    \n",
      "    #read the bam stats\n",
      "    bamStats_file = os.path.dirname(bam) + '/' + os.path.basename(bam).replace('bam','bamStats')\n",
      "    bamStats = yaml.load(open(bamStats_file,'r'))\n",
      "    \n",
      "    #create a synapse file\n",
      "    syn_bamFile = synapseclient.File(bam, synapseStore=False, parent= RNA_SEQ_DATA,\n",
      "                                     name = os.path.basename(bam), annotations = bamStats)\n",
      "                                     \n",
      "    #add additional metadata                        \n",
      "    syn_bamFile['fileType'] = 'bam'\n",
      "    syn_bamFile['sampleType'] = 'mRNA'\n",
      "    syn_bamFile = syn.store(syn_bamFile, used = [syn_rnaSeq_details.id],\n",
      "                            forceVersion = False)"
     ],
     "language": "python",
     "metadata": {},
     "outputs": []
    },
    {
     "cell_type": "code",
     "collapsed": false,
     "input": [
      "#generate plots for read count summarization\n",
      "#gather all bamstat per bam file\n",
      "bamStats = []\n",
      "for count,bam in enumerate(bams):\n",
      "    #read the bam stats\n",
      "    bamStats_file = os.path.dirname(bam) + '/' + os.path.basename(bam).replace('bam','bamStats')\n",
      "    bamStats.append(yaml.load(open(bamStats_file,'r')))\n",
      "\n",
      "#create a pandas df\n",
      "df = pandas.DataFrame.from_dict(bamStats)\n",
      "df.index = df.bamFile"
     ],
     "language": "python",
     "metadata": {},
     "outputs": [
      {
       "ename": "NameError",
       "evalue": "name 'bams' is not defined",
       "output_type": "pyerr",
       "traceback": [
        "\u001b[0;31m---------------------------------------------------------------------------\u001b[0m\n\u001b[0;31mNameError\u001b[0m                                 Traceback (most recent call last)",
        "\u001b[0;32m<ipython-input-5-786ab18630a3>\u001b[0m in \u001b[0;36m<module>\u001b[0;34m()\u001b[0m\n\u001b[1;32m      2\u001b[0m \u001b[0;31m#gather all bamstat per bam file\u001b[0m\u001b[0;34m\u001b[0m\u001b[0;34m\u001b[0m\u001b[0m\n\u001b[1;32m      3\u001b[0m \u001b[0mbamStats\u001b[0m \u001b[0;34m=\u001b[0m \u001b[0;34m[\u001b[0m\u001b[0;34m]\u001b[0m\u001b[0;34m\u001b[0m\u001b[0m\n\u001b[0;32m----> 4\u001b[0;31m \u001b[0;32mfor\u001b[0m \u001b[0mcount\u001b[0m\u001b[0;34m,\u001b[0m\u001b[0mbam\u001b[0m \u001b[0;32min\u001b[0m \u001b[0menumerate\u001b[0m\u001b[0;34m(\u001b[0m\u001b[0mbams\u001b[0m\u001b[0;34m)\u001b[0m\u001b[0;34m:\u001b[0m\u001b[0;34m\u001b[0m\u001b[0m\n\u001b[0m\u001b[1;32m      5\u001b[0m     \u001b[0;31m#read the bam stats\u001b[0m\u001b[0;34m\u001b[0m\u001b[0;34m\u001b[0m\u001b[0m\n\u001b[1;32m      6\u001b[0m     \u001b[0mbamStats_file\u001b[0m \u001b[0;34m=\u001b[0m \u001b[0mos\u001b[0m\u001b[0;34m.\u001b[0m\u001b[0mpath\u001b[0m\u001b[0;34m.\u001b[0m\u001b[0mdirname\u001b[0m\u001b[0;34m(\u001b[0m\u001b[0mbam\u001b[0m\u001b[0;34m)\u001b[0m \u001b[0;34m+\u001b[0m \u001b[0;34m'/'\u001b[0m \u001b[0;34m+\u001b[0m \u001b[0mos\u001b[0m\u001b[0;34m.\u001b[0m\u001b[0mpath\u001b[0m\u001b[0;34m.\u001b[0m\u001b[0mbasename\u001b[0m\u001b[0;34m(\u001b[0m\u001b[0mbam\u001b[0m\u001b[0;34m)\u001b[0m\u001b[0;34m.\u001b[0m\u001b[0mreplace\u001b[0m\u001b[0;34m(\u001b[0m\u001b[0;34m'bam'\u001b[0m\u001b[0;34m,\u001b[0m\u001b[0;34m'bamStats'\u001b[0m\u001b[0;34m)\u001b[0m\u001b[0;34m\u001b[0m\u001b[0m\n",
        "\u001b[0;31mNameError\u001b[0m: name 'bams' is not defined"
       ]
      }
     ],
     "prompt_number": 5
    },
    {
     "cell_type": "code",
     "collapsed": false,
     "input": [
      "df.bamFile"
     ],
     "language": "python",
     "metadata": {},
     "outputs": [
      {
       "ename": "NameError",
       "evalue": "name 'df' is not defined",
       "output_type": "pyerr",
       "traceback": [
        "\u001b[0;31m---------------------------------------------------------------------------\u001b[0m\n\u001b[0;31mNameError\u001b[0m                                 Traceback (most recent call last)",
        "\u001b[0;32m<ipython-input-4-fd5a3042bdde>\u001b[0m in \u001b[0;36m<module>\u001b[0;34m()\u001b[0m\n\u001b[0;32m----> 1\u001b[0;31m \u001b[0mdf\u001b[0m\u001b[0;34m.\u001b[0m\u001b[0mbamFile\u001b[0m\u001b[0;34m\u001b[0m\u001b[0m\n\u001b[0m",
        "\u001b[0;31mNameError\u001b[0m: name 'df' is not defined"
       ]
      }
     ],
     "prompt_number": 4
    },
    {
     "cell_type": "code",
     "collapsed": false,
     "input": [
      "df.mapped = df.mapped.astype(float)\n",
      "df['map_percent'] = df.mapped / (df.reads - df.QC_failed)\n",
      "df['QC_fail_percent'] = df.QC_failed.astype(float) / (df.reads)"
     ],
     "language": "python",
     "metadata": {},
     "outputs": [],
     "prompt_number": 61
    },
    {
     "cell_type": "code",
     "collapsed": false,
     "input": [
      "df[['map_percent']].plot(kind='bar',figsize=(10,8))\n",
      "plt.show()"
     ],
     "language": "python",
     "metadata": {},
     "outputs": [],
     "prompt_number": 70
    },
    {
     "cell_type": "code",
     "collapsed": false,
     "input": [],
     "language": "python",
     "metadata": {},
     "outputs": []
    }
   ],
   "metadata": {}
  }
 ]
}