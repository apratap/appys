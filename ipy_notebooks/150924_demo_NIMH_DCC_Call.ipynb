{
 "cells": [
  {
   "cell_type": "markdown",
   "metadata": {},
   "source": [
    "### Synapse Python API Demo \n",
    "##### Sep 24, 2015\n",
    "\n",
    "Abhishek Pratap (Abhi) / Sage Bionetworks"
   ]
  },
  {
   "cell_type": "code",
   "execution_count": 33,
   "metadata": {
    "collapsed": false
   },
   "outputs": [
    {
     "data": {
      "text/plain": [
       "2"
      ]
     },
     "execution_count": 33,
     "metadata": {},
     "output_type": "execute_result"
    }
   ],
   "source": [
    "1 + 1"
   ]
  },
  {
   "cell_type": "code",
   "execution_count": 34,
   "metadata": {
    "collapsed": false
   },
   "outputs": [],
   "source": [
    "import os\n",
    "import sys\n",
    "sys.path.append('/Users/apratap/dev/appys/lib/')\n",
    "import synapseutils"
   ]
  },
  {
   "cell_type": "markdown",
   "metadata": {},
   "source": [
    "### Logging into synapse"
   ]
  },
  {
   "cell_type": "code",
   "execution_count": 35,
   "metadata": {
    "collapsed": false
   },
   "outputs": [
    {
     "name": "stdout",
     "output_type": "stream",
     "text": [
      "Welcome, Abhishek Pratap!\n"
     ]
    }
   ],
   "source": [
    "import synapseclient\n",
    "syn = synapseclient.login()"
   ]
  },
  {
   "cell_type": "code",
   "execution_count": 36,
   "metadata": {
    "collapsed": false
   },
   "outputs": [],
   "source": [
    "data = syn.query('select * from entity where study ==\"EpiMap\"')\n",
    "data = synapseutils.query2df(data)"
   ]
  },
  {
   "cell_type": "markdown",
   "metadata": {},
   "source": [
    "### Full data"
   ]
  },
  {
   "cell_type": "code",
   "execution_count": 37,
   "metadata": {
    "collapsed": false
   },
   "outputs": [
    {
     "data": {
      "text/html": [
       "<div>\n",
       "<table border=\"1\" class=\"dataframe\">\n",
       "  <thead>\n",
       "    <tr style=\"text-align: right;\">\n",
       "      <th></th>\n",
       "      <th>alias</th>\n",
       "      <th>benefactorId</th>\n",
       "      <th>cellType</th>\n",
       "      <th>concreteType</th>\n",
       "      <th>consoritum</th>\n",
       "      <th>consortium</th>\n",
       "      <th>createdByPrincipalId</th>\n",
       "      <th>createdOn</th>\n",
       "      <th>dataAvailability</th>\n",
       "      <th>dataFolder</th>\n",
       "      <th>...</th>\n",
       "      <th>platform</th>\n",
       "      <th>platformProtocal</th>\n",
       "      <th>projectId</th>\n",
       "      <th>protocolType</th>\n",
       "      <th>study</th>\n",
       "      <th>tissueType</th>\n",
       "      <th>tissueTypeAbrv</th>\n",
       "      <th>versionComment</th>\n",
       "      <th>versionLabel</th>\n",
       "      <th>versionNumber</th>\n",
       "    </tr>\n",
       "  </thead>\n",
       "  <tbody>\n",
       "    <tr>\n",
       "      <th>0</th>\n",
       "      <td>None</td>\n",
       "      <td>4553399</td>\n",
       "      <td>NeuN+</td>\n",
       "      <td>Folder</td>\n",
       "      <td>NaN</td>\n",
       "      <td>PEC</td>\n",
       "      <td>273995</td>\n",
       "      <td>1435608625287</td>\n",
       "      <td>Yes</td>\n",
       "      <td>TRUE</td>\n",
       "      <td>...</td>\n",
       "      <td>NaN</td>\n",
       "      <td>NaN</td>\n",
       "      <td>2787333</td>\n",
       "      <td>ChIP-seq</td>\n",
       "      <td>EpiMap</td>\n",
       "      <td>NaN</td>\n",
       "      <td>DLPFC</td>\n",
       "      <td>None</td>\n",
       "      <td>1</td>\n",
       "      <td>1</td>\n",
       "    </tr>\n",
       "    <tr>\n",
       "      <th>1</th>\n",
       "      <td>None</td>\n",
       "      <td>4553399</td>\n",
       "      <td>NeuN+</td>\n",
       "      <td>FileEntity</td>\n",
       "      <td>PEC</td>\n",
       "      <td>NaN</td>\n",
       "      <td>3322734</td>\n",
       "      <td>1436733567413</td>\n",
       "      <td>NaN</td>\n",
       "      <td>NaN</td>\n",
       "      <td>...</td>\n",
       "      <td>HiSeq2500</td>\n",
       "      <td>paired-end, 100bp</td>\n",
       "      <td>2787333</td>\n",
       "      <td>ChIP-seq</td>\n",
       "      <td>EpiMap</td>\n",
       "      <td>Anterior Cingulate Cortex</td>\n",
       "      <td>ACC</td>\n",
       "      <td>None</td>\n",
       "      <td>1</td>\n",
       "      <td>1</td>\n",
       "    </tr>\n",
       "    <tr>\n",
       "      <th>2</th>\n",
       "      <td>None</td>\n",
       "      <td>4553399</td>\n",
       "      <td>NeuN+</td>\n",
       "      <td>FileEntity</td>\n",
       "      <td>PEC</td>\n",
       "      <td>NaN</td>\n",
       "      <td>3322734</td>\n",
       "      <td>1436733572282</td>\n",
       "      <td>NaN</td>\n",
       "      <td>NaN</td>\n",
       "      <td>...</td>\n",
       "      <td>HiSeq2500</td>\n",
       "      <td>paired-end, 100bp</td>\n",
       "      <td>2787333</td>\n",
       "      <td>ChIP-seq</td>\n",
       "      <td>EpiMap</td>\n",
       "      <td>Anterior Cingulate Cortex</td>\n",
       "      <td>ACC</td>\n",
       "      <td>None</td>\n",
       "      <td>1</td>\n",
       "      <td>1</td>\n",
       "    </tr>\n",
       "    <tr>\n",
       "      <th>3</th>\n",
       "      <td>None</td>\n",
       "      <td>4553399</td>\n",
       "      <td>NeuN+</td>\n",
       "      <td>FileEntity</td>\n",
       "      <td>PEC</td>\n",
       "      <td>NaN</td>\n",
       "      <td>3322734</td>\n",
       "      <td>1436733584441</td>\n",
       "      <td>NaN</td>\n",
       "      <td>NaN</td>\n",
       "      <td>...</td>\n",
       "      <td>HiSeq2500</td>\n",
       "      <td>paired-end, 100bp</td>\n",
       "      <td>2787333</td>\n",
       "      <td>ChIP-seq</td>\n",
       "      <td>EpiMap</td>\n",
       "      <td>Anterior Cingulate Cortex</td>\n",
       "      <td>ACC</td>\n",
       "      <td>None</td>\n",
       "      <td>1</td>\n",
       "      <td>1</td>\n",
       "    </tr>\n",
       "    <tr>\n",
       "      <th>4</th>\n",
       "      <td>None</td>\n",
       "      <td>4553399</td>\n",
       "      <td>NeuN-</td>\n",
       "      <td>FileEntity</td>\n",
       "      <td>PEC</td>\n",
       "      <td>NaN</td>\n",
       "      <td>3322734</td>\n",
       "      <td>1436735756692</td>\n",
       "      <td>NaN</td>\n",
       "      <td>NaN</td>\n",
       "      <td>...</td>\n",
       "      <td>HiSeq2500</td>\n",
       "      <td>paired-end, 100bp</td>\n",
       "      <td>2787333</td>\n",
       "      <td>ChIP-seq</td>\n",
       "      <td>EpiMap</td>\n",
       "      <td>Anterior Cingulate Cortex</td>\n",
       "      <td>ACC</td>\n",
       "      <td>None</td>\n",
       "      <td>1</td>\n",
       "      <td>1</td>\n",
       "    </tr>\n",
       "  </tbody>\n",
       "</table>\n",
       "<p>5 rows × 39 columns</p>\n",
       "</div>"
      ],
      "text/plain": [
       "  alias  benefactorId cellType concreteType consoritum consortium  \\\n",
       "0  None       4553399    NeuN+       Folder        NaN        PEC   \n",
       "1  None       4553399    NeuN+   FileEntity        PEC        NaN   \n",
       "2  None       4553399    NeuN+   FileEntity        PEC        NaN   \n",
       "3  None       4553399    NeuN+   FileEntity        PEC        NaN   \n",
       "4  None       4553399    NeuN-   FileEntity        PEC        NaN   \n",
       "\n",
       "   createdByPrincipalId      createdOn dataAvailability dataFolder  \\\n",
       "0                273995  1435608625287              Yes       TRUE   \n",
       "1               3322734  1436733567413              NaN        NaN   \n",
       "2               3322734  1436733572282              NaN        NaN   \n",
       "3               3322734  1436733584441              NaN        NaN   \n",
       "4               3322734  1436735756692              NaN        NaN   \n",
       "\n",
       "       ...        platform   platformProtocal projectId protocolType   study  \\\n",
       "0      ...             NaN                NaN   2787333     ChIP-seq  EpiMap   \n",
       "1      ...       HiSeq2500  paired-end, 100bp   2787333     ChIP-seq  EpiMap   \n",
       "2      ...       HiSeq2500  paired-end, 100bp   2787333     ChIP-seq  EpiMap   \n",
       "3      ...       HiSeq2500  paired-end, 100bp   2787333     ChIP-seq  EpiMap   \n",
       "4      ...       HiSeq2500  paired-end, 100bp   2787333     ChIP-seq  EpiMap   \n",
       "\n",
       "                  tissueType tissueTypeAbrv versionComment versionLabel  \\\n",
       "0                        NaN          DLPFC           None            1   \n",
       "1  Anterior Cingulate Cortex            ACC           None            1   \n",
       "2  Anterior Cingulate Cortex            ACC           None            1   \n",
       "3  Anterior Cingulate Cortex            ACC           None            1   \n",
       "4  Anterior Cingulate Cortex            ACC           None            1   \n",
       "\n",
       "  versionNumber  \n",
       "0             1  \n",
       "1             1  \n",
       "2             1  \n",
       "3             1  \n",
       "4             1  \n",
       "\n",
       "[5 rows x 39 columns]"
      ]
     },
     "execution_count": 37,
     "metadata": {},
     "output_type": "execute_result"
    }
   ],
   "source": [
    "data.head()"
   ]
  },
  {
   "cell_type": "code",
   "execution_count": 38,
   "metadata": {
    "collapsed": false
   },
   "outputs": [],
   "source": [
    "data_subset = data.ix[: , [ 'dataType ', 'consoritum', 'cellType', 'dataSubType' , 'tissueType', 'fileType','versionNumber']]"
   ]
  },
  {
   "cell_type": "markdown",
   "metadata": {},
   "source": [
    "### Lets generate a quick data summary"
   ]
  },
  {
   "cell_type": "code",
   "execution_count": 39,
   "metadata": {
    "collapsed": false
   },
   "outputs": [
    {
     "data": {
      "text/plain": [
       "consoritum  cellType  dataSubType  fileType\n",
       "PEC         NeuN+     H3K27ac      bam         32\n",
       "                                   bed         32\n",
       "                                   bigwig      32\n",
       "                      H3K4me3      bam         31\n",
       "                                   bed         31\n",
       "                                   bigwig      31\n",
       "                      Input        bam          1\n",
       "                                   bed          1\n",
       "                                   bigwig       1\n",
       "            NeuN-     H3K27ac      bam         32\n",
       "                                   bed         32\n",
       "                                   bigwig      32\n",
       "                      H3K4me3      bam         32\n",
       "                                   bed         32\n",
       "                                   bigwig      32\n",
       "                      Input        bam          1\n",
       "                                   bed          1\n",
       "                                   bigwig       1\n",
       "dtype: int64"
      ]
     },
     "execution_count": 39,
     "metadata": {},
     "output_type": "execute_result"
    }
   ],
   "source": [
    "grp = data_subset.groupby(['consoritum', 'cellType', 'dataSubType', 'fileType'])\n",
    "grp.apply(len)"
   ]
  },
  {
   "cell_type": "markdown",
   "metadata": {},
   "source": [
    "### Downloading data"
   ]
  },
  {
   "cell_type": "code",
   "execution_count": 42,
   "metadata": {
    "collapsed": false
   },
   "outputs": [
    {
     "ename": "SynapseUnmetAccessRestrictions",
     "evalue": "\nWARNING: This entity has access restrictions. Please visit the web page for this entity (syn.onweb(\"syn4599486\")). Click the downward pointing arrow next to the file's name to review and fulfill its download requirement(s).\n",
     "output_type": "error",
     "traceback": [
      "\u001b[0;31m---------------------------------------------------------------------------\u001b[0m",
      "\u001b[0;31mSynapseUnmetAccessRestrictions\u001b[0m            Traceback (most recent call last)",
      "\u001b[0;32m<ipython-input-42-1954bf1a3410>\u001b[0m in \u001b[0;36m<module>\u001b[0;34m()\u001b[0m\n\u001b[0;32m----> 1\u001b[0;31m \u001b[0msyn\u001b[0m\u001b[0;34m.\u001b[0m\u001b[0mget\u001b[0m\u001b[0;34m(\u001b[0m\u001b[0mdata\u001b[0m\u001b[0;34m.\u001b[0m\u001b[0mid\u001b[0m\u001b[0;34m[\u001b[0m\u001b[0;36m1\u001b[0m\u001b[0;34m]\u001b[0m\u001b[0;34m)\u001b[0m\u001b[0;34m\u001b[0m\u001b[0m\n\u001b[0m",
      "\u001b[0;32m/Users/apratap/anaconda/lib/python2.7/site-packages/synapseclient/client.pyc\u001b[0m in \u001b[0;36mget\u001b[0;34m(self, entity, **kwargs)\u001b[0m\n\u001b[1;32m    644\u001b[0m                               \"download requirement(s).\\n\" % id_of(entity))\n\u001b[1;32m    645\u001b[0m             \u001b[0;32mif\u001b[0m \u001b[0mkwargs\u001b[0m\u001b[0;34m.\u001b[0m\u001b[0mget\u001b[0m\u001b[0;34m(\u001b[0m\u001b[0;34m'downloadFile'\u001b[0m\u001b[0;34m,\u001b[0m \u001b[0mTrue\u001b[0m\u001b[0;34m)\u001b[0m\u001b[0;34m:\u001b[0m\u001b[0;34m\u001b[0m\u001b[0m\n\u001b[0;32m--> 646\u001b[0;31m                 \u001b[0;32mraise\u001b[0m \u001b[0mSynapseUnmetAccessRestrictions\u001b[0m\u001b[0;34m(\u001b[0m\u001b[0mwarning_message\u001b[0m\u001b[0;34m)\u001b[0m\u001b[0;34m\u001b[0m\u001b[0m\n\u001b[0m\u001b[1;32m    647\u001b[0m             \u001b[0mwarnings\u001b[0m\u001b[0;34m.\u001b[0m\u001b[0mwarn\u001b[0m\u001b[0;34m(\u001b[0m\u001b[0mwarning_message\u001b[0m\u001b[0;34m)\u001b[0m\u001b[0;34m\u001b[0m\u001b[0m\n\u001b[1;32m    648\u001b[0m \u001b[0;34m\u001b[0m\u001b[0m\n",
      "\u001b[0;31mSynapseUnmetAccessRestrictions\u001b[0m: \nWARNING: This entity has access restrictions. Please visit the web page for this entity (syn.onweb(\"syn4599486\")). Click the downward pointing arrow next to the file's name to review and fulfill its download requirement(s).\n"
     ]
    }
   ],
   "source": [
    "dl_file = syn.get(data.id[1])"
   ]
  },
  {
   "cell_type": "code",
   "execution_count": 49,
   "metadata": {
    "collapsed": false
   },
   "outputs": [],
   "source": [
    "dl_file = syn.get('syn4617583', downloadLocation = \"/tmp/\")"
   ]
  },
  {
   "cell_type": "code",
   "execution_count": null,
   "metadata": {
    "collapsed": true
   },
   "outputs": [],
   "source": []
  }
 ],
 "metadata": {
  "kernelspec": {
   "display_name": "Python 2",
   "language": "python",
   "name": "python2"
  },
  "language_info": {
   "codemirror_mode": {
    "name": "ipython",
    "version": 2
   },
   "file_extension": ".py",
   "mimetype": "text/x-python",
   "name": "python",
   "nbconvert_exporter": "python",
   "pygments_lexer": "ipython2",
   "version": "2.7.10"
  }
 },
 "nbformat": 4,
 "nbformat_minor": 0
}
