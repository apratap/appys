{
 "metadata": {
  "name": ""
 },
 "nbformat": 3,
 "nbformat_minor": 0,
 "worksheets": [
  {
   "cells": [
    {
     "cell_type": "heading",
     "level": 3,
     "metadata": {},
     "source": [
      "Testing python NVD3 library\n",
      "\n"
     ]
    },
    {
     "cell_type": "markdown",
     "metadata": {},
     "source": [
      "####demo_all example\n",
      "* https://github.com/areski/python-nvd3/blob/master/examples/demo_all.py\n",
      "* Project Locaiton: https://github.com/areski/python-nvd3"
     ]
    },
    {
     "cell_type": "code",
     "collapsed": false,
     "input": [
      "import os\n",
      "import sys\n",
      "import random\n",
      "import datetime\n",
      "import time\n",
      "\n",
      "\n",
      "#load all the chartypes\n",
      "from nvd3 import cumulativeLineChart\n",
      "from nvd3 import discreteBarChart\n",
      "from nvd3 import lineChart\n",
      "from nvd3 import linePlusBarChart\n",
      "from nvd3 import lineWithFocusChart\n",
      "from nvd3 import linePlusBarWithFocusChart\n",
      "from nvd3 import multiBarChart\n",
      "from nvd3 import multiBarHorizontalChart\n",
      "from nvd3 import stackedAreaChart\n",
      "from nvd3 import scatterChart\n",
      "from nvd3 import pieChart\n"
     ],
     "language": "python",
     "metadata": {},
     "outputs": [],
     "prompt_number": 32
    },
    {
     "cell_type": "code",
     "collapsed": false,
     "input": [
      "start_time = int(time.mktime(datetime.datetime(2012, 6, 1).timetuple()) * 1000)\n",
      "nb_element = 100\n",
      "\n",
      "#Open File for test\n",
      "output_file = open('nvd3_test_demo_all.html', 'w')\n",
      "#---------------------------------------"
     ],
     "language": "python",
     "metadata": {},
     "outputs": [],
     "prompt_number": 33
    },
    {
     "cell_type": "code",
     "collapsed": false,
     "input": [
      "#create the HTML header \n",
      "\n",
      "html_open = \"\"\"\n",
      "<!DOCTYPE html>\n",
      "<html lang=\"en\">\n",
      "<head>\n",
      "<script src=\"http://ajax.googleapis.com/ajax/libs/jquery/1.10.2/jquery.min.js\"></script>\n",
      "<link media=\"all\" href=\"http://rawgithub.com/novus/nvd3/master/nv.d3.css\" type=\"text/css\" rel=\"stylesheet\" />\n",
      "<script src=\"http://rawgithub.com/mbostock/d3/master/d3.min.js\" type=\"text/javascript\"></script>\n",
      "<script src=\"http://rawgithub.com/novus/nvd3/master/nv.d3.min.js\" type=\"text/javascript\"></script>\n",
      "</head>\n",
      "\"\"\"\n",
      "output_file.write(html_open)"
     ],
     "language": "python",
     "metadata": {},
     "outputs": [],
     "prompt_number": 34
    },
    {
     "cell_type": "heading",
     "level": 4,
     "metadata": {},
     "source": [
      "discrete bar chart "
     ]
    },
    {
     "cell_type": "code",
     "collapsed": false,
     "input": [
      "type = \"discreteBarChart\"\n",
      "chart = discreteBarChart(name='mygraphname', height=400, jquery_on_ready=True)\n",
      "chart.set_containerheader(\"\\n\\n<h2>\" + type + \"</h2>\\n\\n\")\n",
      "xdata = [\"A\", \"B\", \"C\", \"D\", \"E\", \"F\", \"G\"]\n",
      "ydata = [3, 12, -10, 5, 25, -7, 2]\n",
      "\n",
      "extra_serie = {\"tooltip\": {\"y_start\": \"\", \"y_end\": \" cal\"}}\n",
      "chart.add_serie(y=ydata, x=xdata, extra=extra_serie)\n",
      "\n",
      "chart.buildcontent()\n",
      "output_file.write(chart.htmlcontent)\n",
      "\n",
      "#---------------------------------------"
     ],
     "language": "python",
     "metadata": {},
     "outputs": [],
     "prompt_number": 35
    },
    {
     "cell_type": "heading",
     "level": 4,
     "metadata": {},
     "source": [
      "Pie Chart"
     ]
    },
    {
     "cell_type": "code",
     "collapsed": false,
     "input": [
      "type = \"pieChart\"\n",
      "chart = pieChart(color_category='category20c', height=400,\n",
      "                 width=400, jquery_on_ready=True)\n",
      "chart.set_containerheader(\"\\n\\n<h2>\" + type + \"</h2>\\n\\n\")\n",
      "\n",
      "color_list = ['orange', 'yellow', '#C5E946', '#95b43f', 'red', '#FF2259', '#F6A641']\n",
      "extra_serie = {\"tooltip\": {\"y_start\": \"\", \"y_end\": \" cal\"}, \"color_list\": color_list}\n",
      "xdata = [\"Orange\", \"Banana\", \"Pear\", \"Kiwi\", \"Apple\", \"Strawberry\", \"Pineapple\"]\n",
      "ydata = [3, 4, 2, 1, 5, 7, 3]\n",
      "\n",
      "chart.add_serie(y=ydata, x=xdata, extra=extra_serie)\n",
      "chart.buildcontent()\n",
      "output_file.write(chart.htmlcontent)\n",
      "#---------------------------------------"
     ],
     "language": "python",
     "metadata": {},
     "outputs": [],
     "prompt_number": 36
    },
    {
     "cell_type": "heading",
     "level": 4,
     "metadata": {},
     "source": [
      "lineChart"
     ]
    },
    {
     "cell_type": "code",
     "collapsed": false,
     "input": [
      "type = \"lineChart\"\n",
      "chart = lineChart(height=350, x_is_date=True, x_axis_format=\"%d %b %Y %H\",\n",
      "                  jquery_on_ready=True)\n",
      "\n",
      "chart.set_containerheader(\"\\n\\n<h2>\" + type + \"</h2>\\n\\n\")\n",
      "xdata = list(range(nb_element))\n",
      "xdata = [start_time + x * 1000000000 for x in xdata]\n",
      "ydata = [i + random.randint(1, 10) for i in range(nb_element)]\n",
      "ydata2 = [x * 2 for x in ydata]\n",
      "\n",
      "#Configure a color for a specific serie\n",
      "kwargs1 = {'color': 'green'}\n",
      "kwargs2 = {'color': 'red'}\n",
      "\n",
      "extra_serie = {\"tooltip\": {\"y_start\": \"There is \", \"y_end\": \" calls\"},\n",
      "               \"date_format\": \"%d %b %Y %I:%M:%S %p\"}\n",
      "chart.add_serie(name=\"Count\", y=ydata, x=xdata, extra=extra_serie, **kwargs1)\n",
      "extra_serie = {\"tooltip\": {\"y_start\": \"\", \"y_end\": \" min\"}}\n",
      "chart.add_serie(name=\"Duration\", y=ydata2, x=xdata, extra=extra_serie, **kwargs2)\n",
      "chart.buildcontent()\n",
      "output_file.write(chart.htmlcontent)"
     ],
     "language": "python",
     "metadata": {},
     "outputs": [],
     "prompt_number": 37
    },
    {
     "cell_type": "heading",
     "level": 4,
     "metadata": {},
     "source": [
      "line with Focus Chart\n",
      "\n"
     ]
    },
    {
     "cell_type": "code",
     "collapsed": false,
     "input": [
      "type = \"lineWithFocusChart\"\n",
      "chart = lineWithFocusChart(color_category='category20b', x_is_date=True,\n",
      "                           x_axis_format=\"%d %b %Y\", jquery_on_ready=True)\n",
      "chart.set_containerheader(\"\\n\\n<h2>\" + type + \"</h2>\\n\\n\")\n",
      "\n",
      "xdata = list(range(nb_element))\n",
      "xdata = [start_time + x * 1000000000 for x in xdata]\n",
      "ydata = [i + random.randint(-10, 10) for i in list(range(nb_element))]\n",
      "\n",
      "ydata2 = [x * 2 for x in ydata]\n",
      "ydata3 = [x * 3 for x in ydata]\n",
      "ydata4 = [x * 4 for x in ydata]\n",
      "\n",
      "extra_serie = {\"tooltip\": {\"y_start\": \"There is \", \"y_end\": \" calls\"},\n",
      "               \"date_format\": \"%d %b %Y %I:%M:%S\"}\n",
      "#extra_serie = None\n",
      "chart.add_serie(name=\"serie 1\", y=ydata, x=xdata, extra=extra_serie)\n",
      "chart.add_serie(name=\"serie 2\", y=ydata2, x=xdata, extra=extra_serie)\n",
      "chart.add_serie(name=\"serie 3\", y=ydata3, x=xdata, extra=extra_serie)\n",
      "chart.add_serie(name=\"serie 4\", y=ydata4, x=xdata, extra=extra_serie)\n",
      "\n",
      "chart.buildcontent()\n",
      "\n",
      "output_file.write(chart.htmlcontent)"
     ],
     "language": "python",
     "metadata": {},
     "outputs": [],
     "prompt_number": 38
    },
    {
     "cell_type": "heading",
     "level": 4,
     "metadata": {},
     "source": [
      "stacked Area chart"
     ]
    },
    {
     "cell_type": "code",
     "collapsed": false,
     "input": [
      "#---------------------------------------\n",
      "\n",
      "type = \"stackedAreaChart\"\n",
      "chart = stackedAreaChart(height=350, x_is_date=True,\n",
      "                         x_axis_format=\"%d %b %Y %I\", jquery_on_ready=True)\n",
      "chart.set_containerheader(\"\\n\\n<h2>\" + type + \"</h2>\\n\\n\")\n",
      "\n",
      "xdata = list(range(nb_element))\n",
      "xdata = [start_time + x * 1000000000 for x in xdata]\n",
      "ydata = [i + random.randint(1, 10) for i in list(range(nb_element))]\n",
      "ydata2 = [x * 2 for x in ydata]\n",
      "\n",
      "extra_serie = {\"tooltip\": {\"y_start\": \"There is \", \"y_end\": \" calls\"},\n",
      "               \"date_format\": \"%d %b %Y %I:%M:%S %p\"}\n",
      "chart.add_serie(name=\"serie 1\", y=ydata, x=xdata, extra=extra_serie)\n",
      "chart.add_serie(name=\"serie 2\", y=ydata2, x=xdata, extra=extra_serie)\n",
      "\n",
      "chart.buildcontent()\n",
      "\n",
      "output_file.write(chart.htmlcontent)"
     ],
     "language": "python",
     "metadata": {},
     "outputs": [],
     "prompt_number": 39
    },
    {
     "cell_type": "heading",
     "level": 4,
     "metadata": {},
     "source": [
      "line plus Bar Chart"
     ]
    },
    {
     "cell_type": "code",
     "collapsed": false,
     "input": [
      "type = \"linePlusBarChart\"\n",
      "chart = linePlusBarChart(height=350, x_is_date=True,\n",
      "                         x_axis_format=\"%d %b %Y\", jquery_on_ready=True)\n",
      "chart.set_containerheader(\"\\n\\n<h2>\" + type + \"</h2>\\n\\n\")\n",
      "\n",
      "xdata = list(range(nb_element))\n",
      "xdata = [start_time + x * 1000000000 for x in xdata]\n",
      "ydata = [i + random.randint(1, 10) for i in range(nb_element)]\n",
      "ydata2 = [i + random.randint(1, 10) for i in reversed(list(range(nb_element)))]\n",
      "kwargs = {}\n",
      "kwargs['bar'] = True\n",
      "extra_serie = {\"tooltip\": {\"y_start\": \"$ \", \"y_end\": \"\"}}\n",
      "chart.add_serie(name=\"Count\", y=ydata, x=xdata, extra=extra_serie, **kwargs)\n",
      "extra_serie = {\"tooltip\": {\"y_start\": \"\", \"y_end\": \" min\"}}\n",
      "chart.add_serie(name=\"Duration\", y=ydata2, x=xdata, extra=extra_serie)\n",
      "\n",
      "chart.buildcontent()\n",
      "\n",
      "output_file.write(chart.htmlcontent)"
     ],
     "language": "python",
     "metadata": {},
     "outputs": [],
     "prompt_number": 40
    },
    {
     "cell_type": "heading",
     "level": 4,
     "metadata": {},
     "source": [
      "cumulative line chart"
     ]
    },
    {
     "cell_type": "code",
     "collapsed": false,
     "input": [
      "type = \"cumulativeLineChart\"\n",
      "chart = cumulativeLineChart(height=350, x_is_date=True,\n",
      "                            jquery_on_ready=True)\n",
      "chart.set_containerheader(\"\\n\\n<h2>\" + type + \"</h2>\\n\\n\")\n",
      "\n",
      "xdata = list(range(nb_element))\n",
      "xdata = [start_time + x * 1000000000 for x in xdata]\n",
      "ydata = [i + random.randint(1, 10) for i in range(nb_element)]\n",
      "ydata2 = [x * 2 for x in ydata]\n",
      "\n",
      "extra_serie = {\"tooltip\": {\"y_start\": \"\", \"y_end\": \" Calls\"}}\n",
      "chart.add_serie(name=\"Count\", y=ydata, x=xdata, extra=extra_serie)\n",
      "extra_serie = {\"tooltip\": {\"y_start\": \"\", \"y_end\": \" Min\"}}\n",
      "chart.add_serie(name=\"Duration\", y=ydata2, x=xdata, extra=extra_serie)\n",
      "\n",
      "chart.buildcontent()\n",
      "\n",
      "output_file.write(chart.htmlcontent)"
     ],
     "language": "python",
     "metadata": {},
     "outputs": [],
     "prompt_number": 41
    },
    {
     "cell_type": "heading",
     "level": 4,
     "metadata": {},
     "source": [
      "multi bar horizontal chart"
     ]
    },
    {
     "cell_type": "code",
     "collapsed": false,
     "input": [
      "type = \"multiBarHorizontalChart\"\n",
      "chart = multiBarHorizontalChart(height=350, jquery_on_ready=True)\n",
      "chart.set_containerheader(\"\\n\\n<h2>\" + type + \"</h2>\\n\\n\")\n",
      "\n",
      "nb_element = 10\n",
      "xdata = list(range(nb_element))\n",
      "ydata = [random.randint(-10, 10) for i in range(nb_element)]\n",
      "ydata2 = [x * 2 for x in ydata]\n",
      "extra_serie = {\"tooltip\": {\"y_start\": \"\", \"y_end\": \" Calls\"}}\n",
      "chart.add_serie(name=\"Count\", y=ydata, x=xdata, extra=extra_serie)\n",
      "extra_serie = {\"tooltip\": {\"y_start\": \"\", \"y_end\": \" Min\"}}\n",
      "chart.add_serie(name=\"Duration\", y=ydata2, x=xdata, extra=extra_serie)\n",
      "\n",
      "chart.buildcontent()\n",
      "\n",
      "output_file.write(chart.htmlcontent)"
     ],
     "language": "python",
     "metadata": {},
     "outputs": [],
     "prompt_number": 42
    },
    {
     "cell_type": "heading",
     "level": 4,
     "metadata": {},
     "source": [
      "multi bar chart"
     ]
    },
    {
     "cell_type": "code",
     "collapsed": false,
     "input": [
      "type = \"multiBarChart\"\n",
      "chart = multiBarChart(height=350, jquery_on_ready=True)\n",
      "chart.set_containerheader(\"\\n\\n<h2>\" + type + \"</h2>\\n\\n\")\n",
      "nb_element = 10\n",
      "xdata = list(range(nb_element))\n",
      "ydata = [random.randint(1, 10) for i in range(nb_element)]\n",
      "ydata2 = [x * 2 for x in ydata]\n",
      "\n",
      "extra_serie = {\"tooltip\": {\"y_start\": \"\", \"y_end\": \" call\"}}\n",
      "chart.add_serie(name=\"Count\", y=ydata, x=xdata, extra=extra_serie)\n",
      "extra_serie = {\"tooltip\": {\"y_start\": \"\", \"y_end\": \" min\"}}\n",
      "chart.add_serie(name=\"Duration\", y=ydata2, x=xdata, extra=extra_serie)\n",
      "chart.buildcontent()\n",
      "\n",
      "output_file.write(chart.htmlcontent)"
     ],
     "language": "python",
     "metadata": {},
     "outputs": [],
     "prompt_number": 43
    },
    {
     "cell_type": "heading",
     "level": 4,
     "metadata": {},
     "source": [
      "multiBar chart with date"
     ]
    },
    {
     "cell_type": "code",
     "collapsed": false,
     "input": [
      "type = \"multiBarChartDate\"\n",
      "chart = multiBarChart(name=type, height=350, x_is_date=True, jquery_on_ready=True)\n",
      "chart.set_containerheader(\"\\n\\n<h2>\" + type + \"</h2>\\n\\n\")\n",
      "nb_element = 100\n",
      "start_time = int(time.mktime(datetime.datetime(2012, 6, 1).timetuple()) * 1000)\n",
      "xdata = range(nb_element)\n",
      "xdata = map(lambda x: start_time + x * 1000000000, xdata)\n",
      "ydata = [i + random.randint(1, 10) for i in range(nb_element)]\n",
      "ydata2 = map(lambda x: x * 2, ydata)\n",
      "\n",
      "tooltip_date = \"%d %b %Y %H:%M:%S %p\"\n",
      "extra_serie = {\"tooltip\": {\"y_start\": \"There are \", \"y_end\": \" calls\"},\n",
      "               \"date_format\": tooltip_date}\n",
      "chart.add_serie(name=\"Count\", y=ydata, x=xdata, extra=extra_serie)\n",
      "extra_serie = {\"tooltip\": {\"y_start\": \"There are \", \"y_end\": \" duration\"},\n",
      "               \"date_format\": tooltip_date}\n",
      "chart.add_serie(name=\"Duration\", y=ydata2, x=xdata, extra=extra_serie)\n",
      "chart.buildcontent()\n",
      "\n",
      "output_file.write(chart.htmlcontent)"
     ],
     "language": "python",
     "metadata": {},
     "outputs": [],
     "prompt_number": 44
    },
    {
     "cell_type": "heading",
     "level": 4,
     "metadata": {},
     "source": [
      "scatter Chart"
     ]
    },
    {
     "cell_type": "code",
     "collapsed": false,
     "input": [
      "type = \"scatterChart\"\n",
      "chart = scatterChart(height=350, date=False, jquery_on_ready=True)\n",
      "chart.set_containerheader(\"\\n\\n<h2>\" + type + \"</h2>\\n\\n\")\n",
      "nb_element = 50\n",
      "xdata = [i + random.randint(1, 10) for i in range(nb_element)]\n",
      "ydata = [i * random.randint(1, 10) for i in range(nb_element)]\n",
      "ydata2 = [x * 2 for x in ydata]\n",
      "ydata3 = [x * 5 for x in ydata]\n",
      "\n",
      "kwargs1 = {'shape': 'circle', 'size': '1'}\n",
      "kwargs2 = {'shape': 'cross', 'size': '10'}\n",
      "kwargs3 = {'shape': 'triangle-up', 'size': '100'}\n",
      "\n",
      "extra_serie = {\"tooltip\": {\"y_start\": \"\", \"y_end\": \" calls\"}}\n",
      "chart.add_serie(name=\"serie 1\", y=ydata, x=xdata, extra=extra_serie, **kwargs1)\n",
      "chart.add_serie(name=\"serie 2\", y=ydata2, x=xdata, extra=extra_serie, **kwargs2)\n",
      "chart.add_serie(name=\"serie 3\", y=ydata3, x=xdata, extra=extra_serie, **kwargs3)\n",
      "\n",
      "chart.buildcontent()\n",
      "\n",
      "output_file.write(chart.htmlcontent)"
     ],
     "language": "python",
     "metadata": {},
     "outputs": [],
     "prompt_number": 45
    },
    {
     "cell_type": "heading",
     "level": 4,
     "metadata": {},
     "source": [
      "line plus bar with focus chart"
     ]
    },
    {
     "cell_type": "code",
     "collapsed": false,
     "input": [
      "nb_element = 200\n",
      "\n",
      "type = \"linePlusBarWithFocusChart\"\n",
      "chart = linePlusBarWithFocusChart(height=350, x_is_date=True,\n",
      "                                  x_axis_format=\"%d %b %Y\", jquery_on_ready=True)\n",
      "chart.set_containerheader(\"\\n\\n<h2>\" + type + \"</h2>\\n\\n\")\n",
      "\n",
      "xdata = list(range(nb_element))\n",
      "xdata = [start_time + x * 1000000000 for x in xdata]\n",
      "ydata = [i + random.randint(1, 10) for i in range(nb_element)]\n",
      "ydata2 = [i + random.randint(10, 20) for i in reversed(list(range(nb_element)))]\n",
      "kwargs = {}\n",
      "kwargs['bar'] = True\n",
      "extra_serie = {\"tooltip\": {\"y_start\": \"$ \", \"y_end\": \"\"}}\n",
      "chart.add_serie(name=\"Count\", y=ydata, x=xdata, extra=extra_serie, **kwargs)\n",
      "extra_serie = {\"tooltip\": {\"y_start\": \"\", \"y_end\": \" min\"}}\n",
      "chart.add_serie(name=\"Duration\", y=ydata2, x=xdata, extra=extra_serie)\n",
      "\n",
      "chart.buildcontent()\n",
      "\n",
      "output_file.write(chart.htmlcontent)"
     ],
     "language": "python",
     "metadata": {},
     "outputs": [],
     "prompt_number": 46
    },
    {
     "cell_type": "code",
     "collapsed": false,
     "input": [
      "html_close = \"\"\"</body></html>\"\"\"\n",
      "output_file.write(html_close)\n",
      "output_file.close()\n",
      "\n",
      "#close Html file"
     ],
     "language": "python",
     "metadata": {},
     "outputs": [],
     "prompt_number": 47
    },
    {
     "cell_type": "code",
     "collapsed": false,
     "input": [
      "from IPython.core.display import display_html"
     ],
     "language": "python",
     "metadata": {},
     "outputs": [],
     "prompt_number": 48
    },
    {
     "cell_type": "code",
     "collapsed": false,
     "input": [
      "fh = open('test.html','w')\n",
      "fh.write(html_open + chart.htmlcontent+html_close )\n",
      "fh.close()"
     ],
     "language": "python",
     "metadata": {},
     "outputs": [],
     "prompt_number": 52
    },
    {
     "cell_type": "code",
     "collapsed": false,
     "input": [
      "display_html"
     ],
     "language": "python",
     "metadata": {},
     "outputs": [],
     "prompt_number": 25
    }
   ],
   "metadata": {}
  }
 ]
}